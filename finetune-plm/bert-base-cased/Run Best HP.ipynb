{
 "cells": [
  {
   "cell_type": "markdown",
   "id": "8885c288",
   "metadata": {},
   "source": [
    "# Import Library"
   ]
  },
  {
   "cell_type": "code",
   "execution_count": 1,
   "id": "2bfd5f7d",
   "metadata": {},
   "outputs": [
    {
     "name": "stderr",
     "output_type": "stream",
     "text": [
      "c:\\users\\mcha0133\\desktop\\everything about bert training\\bert-ft-fp\\lib\\site-packages\\tqdm\\auto.py:21: TqdmWarning: IProgress not found. Please update jupyter and ipywidgets. See https://ipywidgets.readthedocs.io/en/stable/user_install.html\n",
      "  from .autonotebook import tqdm as notebook_tqdm\n"
     ]
    }
   ],
   "source": [
    "import os\n",
    "import json\n",
    "import torch\n",
    "import numpy as np\n",
    "import pandas as pd\n",
    "from nltk.tokenize import word_tokenize\n",
    "from datasets import load_metric, load_dataset, Dataset\n",
    "from transformers import BertTokenizerFast, BertForTokenClassification, TrainingArguments, Trainer, DataCollatorForTokenClassification"
   ]
  },
  {
   "cell_type": "code",
   "execution_count": 2,
   "id": "6a6374ae-3498-442a-b18d-f991e794f7d4",
   "metadata": {},
   "outputs": [],
   "source": [
    "DRIVER_LETTER = os.path.splitdrive(os.getcwd())[0]"
   ]
  },
  {
   "cell_type": "markdown",
   "id": "fe64494e-6c41-4531-9b81-b67f2442d408",
   "metadata": {},
   "source": [
    "## Configurations"
   ]
  },
  {
   "cell_type": "code",
   "execution_count": 3,
   "id": "d27436f8-24cf-461e-a52a-14fd2f781cb6",
   "metadata": {},
   "outputs": [],
   "source": [
    "FURTHER_PRETRAINED_FOLDER = \"bert-base-cased\"\n",
    "logging_dir = \"./logs_final\"\n",
    "output_dir = \"./pretrained_bert_final\""
   ]
  },
  {
   "cell_type": "code",
   "execution_count": 4,
   "id": "de729755-e1f7-4081-a446-41636e03b2ca",
   "metadata": {},
   "outputs": [
    {
     "name": "stdout",
     "output_type": "stream",
     "text": [
      "{'learning_rate': 5e-05, 'num_train_epochs': 20, 'per_device_train_batch_size': 4, 'weight_decay': 0.0001, 'assignments': {}, 'metric': 'eval/loss'}\n"
     ]
    }
   ],
   "source": [
    "# Define hyperparameter grid\n",
    "with open(\"best-parameter.json\",\"r\") as f:\n",
    "    hyperparameters = json.load(f)\n",
    "print(hyperparameters)"
   ]
  },
  {
   "cell_type": "code",
   "execution_count": 6,
   "id": "e43d399b",
   "metadata": {},
   "outputs": [],
   "source": [
    "tokenizer = BertTokenizerFast.from_pretrained(\"bert-base-cased\")"
   ]
  },
  {
   "cell_type": "code",
   "execution_count": 7,
   "id": "df0eeadc-8036-46a6-bf89-76532f29fb8b",
   "metadata": {},
   "outputs": [
    {
     "name": "stdout",
     "output_type": "stream",
     "text": [
      "Using device: cuda\n",
      "\n",
      "NVIDIA GeForce RTX 2080\n",
      "Memory Usage:\n",
      "Allocated: 0.0 GB\n",
      "Cached:    0.0 GB\n"
     ]
    }
   ],
   "source": [
    "torch.cuda.empty_cache()\n",
    "\n",
    "device = torch.device('cuda' if torch.cuda.is_available() else 'cpu')\n",
    "torch.cuda.get_device_name(0)\n",
    "print('Using device:', device)\n",
    "print()\n",
    "\n",
    "#Additional Info when using cuda\n",
    "if device.type == 'cuda':\n",
    "    print(torch.cuda.get_device_name(0))\n",
    "    print('Memory Usage:')\n",
    "    print('Allocated:', round(torch.cuda.memory_allocated(0)/1024**3,1), 'GB')\n",
    "    print('Cached:   ', round(torch.cuda.memory_reserved(0)/1024**3,1), 'GB')"
   ]
  },
  {
   "cell_type": "code",
   "execution_count": 8,
   "id": "9cce0faf",
   "metadata": {},
   "outputs": [
    {
     "name": "stdout",
     "output_type": "stream",
     "text": [
      "cuda\n"
     ]
    }
   ],
   "source": [
    "device = 'cuda' if torch.cuda.is_available() else 'cpu'\n",
    "print(device)"
   ]
  },
  {
   "cell_type": "markdown",
   "id": "138952a8",
   "metadata": {},
   "source": [
    "# Import Dataset"
   ]
  },
  {
   "cell_type": "code",
   "execution_count": 10,
   "id": "7e7036ba-1e2d-4263-a1f7-a51dad749cf4",
   "metadata": {},
   "outputs": [
    {
     "name": "stdout",
     "output_type": "stream",
     "text": [
      "(150, 3)\n",
      "(20, 3)\n",
      "(30, 3)\n"
     ]
    }
   ],
   "source": [
    "train = pd.read_json(\"./bio-tag-dataset/train_bio.json\")\n",
    "train = train[[\"text\",\"entities\"]]\n",
    "train[\"token\"] = train[\"text\"].apply(lambda x: word_tokenize(x))\n",
    "\n",
    "test = pd.read_json(\"./bio-tag-dataset/test_bio.json\")\n",
    "test = test[[\"text\",\"entities\"]]\n",
    "test[\"token\"] = test[\"text\"].apply(lambda x: word_tokenize(x))\n",
    "\n",
    "valid = pd.read_json(\"./bio-tag-dataset/validation_bio.json\")\n",
    "valid = valid[[\"text\",\"entities\"]]\n",
    "valid[\"token\"] = valid[\"text\"].apply(lambda x: word_tokenize(x))\n",
    "\n",
    "print(train.shape)\n",
    "print(test.shape)\n",
    "print(valid.shape)"
   ]
  },
  {
   "cell_type": "markdown",
   "id": "e4b4e505",
   "metadata": {},
   "source": [
    "# Format BIO Dataset - Processing"
   ]
  },
  {
   "cell_type": "code",
   "execution_count": 11,
   "id": "cecabd96",
   "metadata": {},
   "outputs": [
    {
     "name": "stdout",
     "output_type": "stream",
     "text": [
      "['I-PERSON', 'B-WORK_OF_ART', 'O', 'B-PERSON', 'B-ORGANIZATION', 'B-ROLE', 'I-NORP', 'B-EVENT', 'I-LAW', 'B-FACILITY', 'B-TITLE', 'I-EVENT', 'I-TITLE', 'B-LOCATION', 'B-PRODUCT', 'B-LAW', 'B-NORP', 'I-PRODUCT', 'I-FACILITY', 'I-ORGANIZATION', 'I-WORK_OF_ART', 'I-ROLE', 'I-LOCATION']\n",
      "{'B-EVENT': 0, 'B-FACILITY': 1, 'B-LAW': 2, 'B-LOCATION': 3, 'B-NORP': 4, 'B-ORGANIZATION': 5, 'B-PERSON': 6, 'B-PRODUCT': 7, 'B-ROLE': 8, 'B-TITLE': 9, 'B-WORK_OF_ART': 10, 'I-EVENT': 11, 'I-FACILITY': 12, 'I-LAW': 13, 'I-LOCATION': 14, 'I-NORP': 15, 'I-ORGANIZATION': 16, 'I-PERSON': 17, 'I-PRODUCT': 18, 'I-ROLE': 19, 'I-TITLE': 20, 'I-WORK_OF_ART': 21, 'O': 22}\n"
     ]
    }
   ],
   "source": [
    "# Split labels based on whitespace and turn them into a list\n",
    "labels = [i for i in train['entities'].values.tolist()]\n",
    "\n",
    "# Check how many labels are there in the dataset\n",
    "unique_labels = set()\n",
    "\n",
    "for lb in labels:\n",
    "    [unique_labels.add(i) for i in lb if i not in unique_labels]\n",
    "\n",
    "unique_labels = list(unique_labels)\n",
    "print(unique_labels)\n",
    "\n",
    "# Map each label into its id representation and vice versa\n",
    "label2id = {k: v for v, k in enumerate(sorted(unique_labels))}\n",
    "id2label  = {v: k for v, k in enumerate(sorted(unique_labels))}\n",
    "print(label2id)"
   ]
  },
  {
   "cell_type": "code",
   "execution_count": 12,
   "id": "9a06442d",
   "metadata": {},
   "outputs": [],
   "source": [
    "train['entities'] = train['entities'].apply(lambda entities: [label2id[ent] for ent in entities])\n",
    "test['entities'] = test['entities'].apply(lambda entities: [label2id[ent] for ent in entities])\n",
    "valid['entities'] = valid['entities'].apply(lambda entities: [label2id[ent] for ent in entities])"
   ]
  },
  {
   "cell_type": "code",
   "execution_count": 13,
   "id": "3d9c590f",
   "metadata": {},
   "outputs": [],
   "source": [
    "train_dataset = Dataset.from_pandas(train)\n",
    "test_dataset = Dataset.from_pandas(test)\n",
    "valid_dataset = Dataset.from_pandas(valid)"
   ]
  },
  {
   "cell_type": "markdown",
   "id": "20757074",
   "metadata": {},
   "source": [
    "# Tokenize Dataset"
   ]
  },
  {
   "cell_type": "code",
   "execution_count": 14,
   "id": "68272d42",
   "metadata": {},
   "outputs": [],
   "source": [
    "label_all_tokens = True"
   ]
  },
  {
   "cell_type": "code",
   "execution_count": 15,
   "id": "b27bd599",
   "metadata": {},
   "outputs": [],
   "source": [
    "def tokenize_and_align_labels(examples):\n",
    "    tokenized_inputs = tokenizer(examples[\"token\"], truncation=True, is_split_into_words=True)\n",
    "\n",
    "    labels = []\n",
    "    for i, label in enumerate(examples[\"entities\"]):\n",
    "        word_ids = tokenized_inputs.word_ids(batch_index=i)\n",
    "        previous_word_idx = None\n",
    "        label_ids = []\n",
    "        for word_idx in word_ids:\n",
    "            # Special tokens have a word id that is None. We set the label to -100 so they are automatically\n",
    "            # ignored in the loss function.\n",
    "            if word_idx is None:\n",
    "                label_ids.append(-100)\n",
    "            # We set the label for the first token of each word.\n",
    "            elif word_idx != previous_word_idx:\n",
    "                label_ids.append(label[word_idx])\n",
    "            # For the other tokens in a word, we set the label to either the current label or -100, depending on\n",
    "            # the label_all_tokens flag.\n",
    "            else:\n",
    "                label_ids.append(label[word_idx] if label_all_tokens else -100)\n",
    "            previous_word_idx = word_idx\n",
    "\n",
    "        labels.append(label_ids)\n",
    "\n",
    "    tokenized_inputs[\"labels\"] = labels\n",
    "    return tokenized_inputs"
   ]
  },
  {
   "cell_type": "code",
   "execution_count": 16,
   "id": "f72c638f-3311-4764-8af0-6f96726c2531",
   "metadata": {},
   "outputs": [
    {
     "name": "stderr",
     "output_type": "stream",
     "text": [
      "Map: 100%|███████████████████████████████████████████████████████████████████| 150/150 [00:00<00:00, 748.15 examples/s]\n",
      "Map: 100%|█████████████████████████████████████████████████████████████████████| 20/20 [00:00<00:00, 802.11 examples/s]\n",
      "Map: 100%|█████████████████████████████████████████████████████████████████████| 30/30 [00:00<00:00, 833.23 examples/s]\n"
     ]
    }
   ],
   "source": [
    "training_set = train_dataset.map(tokenize_and_align_labels, batched=True)\n",
    "testing_set = test_dataset.map(tokenize_and_align_labels, batched=True)\n",
    "valid_set = valid_dataset.map(tokenize_and_align_labels, batched=True)"
   ]
  },
  {
   "cell_type": "markdown",
   "id": "62adaf43",
   "metadata": {},
   "source": [
    "# Set an Initialize BERT Model"
   ]
  },
  {
   "cell_type": "code",
   "execution_count": 17,
   "id": "a8da2e08",
   "metadata": {},
   "outputs": [],
   "source": [
    "# model = BertForTokenClassification.from_pretrained('bert-base-cased', \n",
    "#                                                    num_labels=len(id2label),\n",
    "#                                                    id2label=id2label,\n",
    "#                                                    label2id=label2id)\n",
    "def model_init():\n",
    "    return(BertForTokenClassification.from_pretrained(\"bert-base-cased\", num_labels=len(id2label), id2label=id2label, label2id=label2id))"
   ]
  },
  {
   "cell_type": "code",
   "execution_count": 18,
   "id": "ac71e516",
   "metadata": {},
   "outputs": [],
   "source": [
    "# Define training arguments\n",
    "training_args = TrainingArguments(\n",
    "    output_dir=output_dir,\n",
    "    num_train_epochs=hyperparameters[\"num_train_epochs\"],\n",
    "    per_device_train_batch_size=hyperparameters[\"per_device_train_batch_size\"],\n",
    "    per_device_eval_batch_size=hyperparameters[\"per_device_train_batch_size\"],\n",
    "    save_total_limit=2,\n",
    "    logging_dir=logging_dir,\n",
    "    learning_rate=hyperparameters[\"learning_rate\"],\n",
    "    weight_decay=hyperparameters['weight_decay'],\n",
    "    logging_first_step=True,\n",
    "    evaluation_strategy = \"epoch\",\n",
    "    logging_strategy=\"epoch\",\n",
    "    save_strategy=\"epoch\", \n",
    "    resume_from_checkpoint=True,\n",
    "    fp16=True,\n",
    "    gradient_accumulation_steps=4,\n",
    "    gradient_checkpointing=True,\n",
    "    optim=\"adafactor\",\n",
    "    metric_for_best_model=\"eval_f1\",\n",
    "    report_to=\"wandb\",\n",
    "    #optim=\"adamw_bnb_8bit\",\n",
    "    run_name=FURTHER_PRETRAINED_FOLDER,\n",
    "    load_best_model_at_end=True,\n",
    "    disable_tqdm=False  # Disable tqdm progress bar if desired\n",
    ")"
   ]
  },
  {
   "cell_type": "code",
   "execution_count": 19,
   "id": "9340e048-e2f5-4f50-a691-641fe7e18fb5",
   "metadata": {},
   "outputs": [],
   "source": [
    "data_collator = DataCollatorForTokenClassification(tokenizer)"
   ]
  },
  {
   "cell_type": "code",
   "execution_count": 20,
   "id": "b967a971-6e42-42d1-8d85-02f7c2cd62f6",
   "metadata": {},
   "outputs": [
    {
     "name": "stderr",
     "output_type": "stream",
     "text": [
      "C:\\Users\\mcha0133\\AppData\\Local\\Temp\\ipykernel_23620\\152412463.py:1: FutureWarning: load_metric is deprecated and will be removed in the next major version of datasets. Use 'evaluate.load' instead, from the new library 🤗 Evaluate: https://huggingface.co/docs/evaluate\n",
      "  metric = load_metric(\"seqeval\")\n"
     ]
    }
   ],
   "source": [
    "metric = load_metric(\"seqeval\")"
   ]
  },
  {
   "cell_type": "code",
   "execution_count": 21,
   "id": "9ecc0a09-e17c-4248-9ea8-5f765202bdf3",
   "metadata": {},
   "outputs": [],
   "source": [
    "def compute_metrics(p):\n",
    "    predictions, labels = p\n",
    "    predictions = np.argmax(predictions, axis=2)\n",
    "\n",
    "    label2id_str = list(label2id.keys())\n",
    "    \n",
    "    # Remove ignored index (special tokens)\n",
    "    true_predictions = [\n",
    "        [label2id_str[p] for (p, l) in zip(prediction, label) if l != -100]\n",
    "        for prediction, label in zip(predictions, labels)\n",
    "    ]\n",
    "    true_labels = [\n",
    "        [label2id_str[l] for (p, l) in zip(prediction, label) if l != -100]\n",
    "        for prediction, label in zip(predictions, labels)\n",
    "    ]\n",
    "\n",
    "    results = metric.compute(predictions=true_predictions, references=true_labels)\n",
    "    return {\n",
    "        \"precision\": results[\"overall_precision\"],\n",
    "        \"recall\": results[\"overall_recall\"],\n",
    "        \"f1\": results[\"overall_f1\"],\n",
    "        \"accuracy\": results[\"overall_accuracy\"],\n",
    "    }"
   ]
  },
  {
   "cell_type": "code",
   "execution_count": 22,
   "id": "87f5e038-4608-4732-b000-42317c18766a",
   "metadata": {},
   "outputs": [
    {
     "name": "stderr",
     "output_type": "stream",
     "text": [
      "Some weights of BertForTokenClassification were not initialized from the model checkpoint at bert-base-cased and are newly initialized: ['classifier.bias', 'classifier.weight']\n",
      "You should probably TRAIN this model on a down-stream task to be able to use it for predictions and inference.\n"
     ]
    }
   ],
   "source": [
    "trainer = Trainer(\n",
    "    args=training_args,\n",
    "    tokenizer=tokenizer,\n",
    "    train_dataset=training_set,\n",
    "    eval_dataset=valid_set,\n",
    "    model_init=model_init,\n",
    "    data_collator=data_collator,\n",
    "    compute_metrics=compute_metrics,\n",
    ")"
   ]
  },
  {
   "cell_type": "code",
   "execution_count": 23,
   "id": "c2810061-bd6b-473b-8ea4-172e00af361c",
   "metadata": {},
   "outputs": [
    {
     "name": "stderr",
     "output_type": "stream",
     "text": [
      "Some weights of BertForTokenClassification were not initialized from the model checkpoint at bert-base-cased and are newly initialized: ['classifier.bias', 'classifier.weight']\n",
      "You should probably TRAIN this model on a down-stream task to be able to use it for predictions and inference.\n",
      "Failed to detect the name of this notebook, you can set it manually with the WANDB_NOTEBOOK_NAME environment variable to enable code saving.\n",
      "\u001b[34m\u001b[1mwandb\u001b[0m: Currently logged in as: \u001b[33mmohanrj-nlp\u001b[0m. Use \u001b[1m`wandb login --relogin`\u001b[0m to force relogin\n"
     ]
    },
    {
     "data": {
      "text/html": [
       "Tracking run with wandb version 0.15.12"
      ],
      "text/plain": [
       "<IPython.core.display.HTML object>"
      ]
     },
     "metadata": {},
     "output_type": "display_data"
    },
    {
     "data": {
      "text/html": [
       "Run data is saved locally in <code>C:\\Users\\mcha0133\\Desktop\\Everything About BERT Training\\Fine Tune BERT NER\\bert-base-cased\\wandb\\run-20231007_014559-055scf74</code>"
      ],
      "text/plain": [
       "<IPython.core.display.HTML object>"
      ]
     },
     "metadata": {},
     "output_type": "display_data"
    },
    {
     "data": {
      "text/html": [
       "Syncing run <strong><a href='https://wandb.ai/mohanrj-nlp/huggingface/runs/055scf74' target=\"_blank\">bert-base-cased</a></strong> to <a href='https://wandb.ai/mohanrj-nlp/huggingface' target=\"_blank\">Weights & Biases</a> (<a href='https://wandb.me/run' target=\"_blank\">docs</a>)<br/>"
      ],
      "text/plain": [
       "<IPython.core.display.HTML object>"
      ]
     },
     "metadata": {},
     "output_type": "display_data"
    },
    {
     "data": {
      "text/html": [
       " View project at <a href='https://wandb.ai/mohanrj-nlp/huggingface' target=\"_blank\">https://wandb.ai/mohanrj-nlp/huggingface</a>"
      ],
      "text/plain": [
       "<IPython.core.display.HTML object>"
      ]
     },
     "metadata": {},
     "output_type": "display_data"
    },
    {
     "data": {
      "text/html": [
       " View run at <a href='https://wandb.ai/mohanrj-nlp/huggingface/runs/055scf74' target=\"_blank\">https://wandb.ai/mohanrj-nlp/huggingface/runs/055scf74</a>"
      ],
      "text/plain": [
       "<IPython.core.display.HTML object>"
      ]
     },
     "metadata": {},
     "output_type": "display_data"
    },
    {
     "name": "stderr",
     "output_type": "stream",
     "text": [
      "You're using a BertTokenizerFast tokenizer. Please note that with a fast tokenizer, using the `__call__` method is faster than using a method to encode the text followed by a call to the `pad` method to get a padded encoding.\n",
      "c:\\users\\mcha0133\\desktop\\everything about bert training\\bert-ft-fp\\lib\\site-packages\\torch\\utils\\checkpoint.py:429: UserWarning: torch.utils.checkpoint: please pass in use_reentrant=True or use_reentrant=False explicitly. The default value of use_reentrant will be updated to be False in the future. To maintain current behavior, pass use_reentrant=True. It is recommended that you use use_reentrant=False. Refer to docs for more details on the differences between the two variants.\n",
      "  warnings.warn(\n"
     ]
    },
    {
     "data": {
      "text/html": [
       "\n",
       "    <div>\n",
       "      \n",
       "      <progress value='180' max='180' style='width:300px; height:20px; vertical-align: middle;'></progress>\n",
       "      [180/180 02:11, Epoch 18/20]\n",
       "    </div>\n",
       "    <table border=\"1\" class=\"dataframe\">\n",
       "  <thead>\n",
       " <tr style=\"text-align: left;\">\n",
       "      <th>Epoch</th>\n",
       "      <th>Training Loss</th>\n",
       "      <th>Validation Loss</th>\n",
       "      <th>Precision</th>\n",
       "      <th>Recall</th>\n",
       "      <th>F1</th>\n",
       "      <th>Accuracy</th>\n",
       "    </tr>\n",
       "  </thead>\n",
       "  <tbody>\n",
       "    <tr>\n",
       "      <td>0</td>\n",
       "      <td>1.533900</td>\n",
       "      <td>0.703811</td>\n",
       "      <td>0.335907</td>\n",
       "      <td>0.287603</td>\n",
       "      <td>0.309884</td>\n",
       "      <td>0.853895</td>\n",
       "    </tr>\n",
       "    <tr>\n",
       "      <td>2</td>\n",
       "      <td>0.465700</td>\n",
       "      <td>0.291635</td>\n",
       "      <td>0.511867</td>\n",
       "      <td>0.534711</td>\n",
       "      <td>0.523040</td>\n",
       "      <td>0.917870</td>\n",
       "    </tr>\n",
       "    <tr>\n",
       "      <td>4</td>\n",
       "      <td>0.292700</td>\n",
       "      <td>0.204336</td>\n",
       "      <td>0.624730</td>\n",
       "      <td>0.718182</td>\n",
       "      <td>0.668205</td>\n",
       "      <td>0.941904</td>\n",
       "    </tr>\n",
       "    <tr>\n",
       "      <td>6</td>\n",
       "      <td>0.204600</td>\n",
       "      <td>0.195381</td>\n",
       "      <td>0.684250</td>\n",
       "      <td>0.761157</td>\n",
       "      <td>0.720657</td>\n",
       "      <td>0.946053</td>\n",
       "    </tr>\n",
       "    <tr>\n",
       "      <td>8</td>\n",
       "      <td>0.144700</td>\n",
       "      <td>0.175231</td>\n",
       "      <td>0.707951</td>\n",
       "      <td>0.765289</td>\n",
       "      <td>0.735504</td>\n",
       "      <td>0.952019</td>\n",
       "    </tr>\n",
       "    <tr>\n",
       "      <td>10</td>\n",
       "      <td>0.111900</td>\n",
       "      <td>0.183030</td>\n",
       "      <td>0.710835</td>\n",
       "      <td>0.802479</td>\n",
       "      <td>0.753882</td>\n",
       "      <td>0.951846</td>\n",
       "    </tr>\n",
       "    <tr>\n",
       "      <td>12</td>\n",
       "      <td>0.090100</td>\n",
       "      <td>0.189923</td>\n",
       "      <td>0.727829</td>\n",
       "      <td>0.786777</td>\n",
       "      <td>0.756156</td>\n",
       "      <td>0.951846</td>\n",
       "    </tr>\n",
       "    <tr>\n",
       "      <td>14</td>\n",
       "      <td>0.075600</td>\n",
       "      <td>0.186401</td>\n",
       "      <td>0.718126</td>\n",
       "      <td>0.772727</td>\n",
       "      <td>0.744427</td>\n",
       "      <td>0.952192</td>\n",
       "    </tr>\n",
       "    <tr>\n",
       "      <td>16</td>\n",
       "      <td>0.068200</td>\n",
       "      <td>0.188509</td>\n",
       "      <td>0.738426</td>\n",
       "      <td>0.790909</td>\n",
       "      <td>0.763767</td>\n",
       "      <td>0.953921</td>\n",
       "    </tr>\n",
       "    <tr>\n",
       "      <td>18</td>\n",
       "      <td>0.058800</td>\n",
       "      <td>0.193275</td>\n",
       "      <td>0.734411</td>\n",
       "      <td>0.788430</td>\n",
       "      <td>0.760462</td>\n",
       "      <td>0.953575</td>\n",
       "    </tr>\n",
       "  </tbody>\n",
       "</table><p>"
      ],
      "text/plain": [
       "<IPython.core.display.HTML object>"
      ]
     },
     "metadata": {},
     "output_type": "display_data"
    },
    {
     "name": "stderr",
     "output_type": "stream",
     "text": [
      "c:\\users\\mcha0133\\desktop\\everything about bert training\\bert-ft-fp\\lib\\site-packages\\seqeval\\metrics\\v1.py:57: UndefinedMetricWarning: Precision and F-score are ill-defined and being set to 0.0 in labels with no predicted samples. Use `zero_division` parameter to control this behavior.\n",
      "  _warn_prf(average, modifier, msg_start, len(result))\n",
      "c:\\users\\mcha0133\\desktop\\everything about bert training\\bert-ft-fp\\lib\\site-packages\\torch\\utils\\checkpoint.py:429: UserWarning: torch.utils.checkpoint: please pass in use_reentrant=True or use_reentrant=False explicitly. The default value of use_reentrant will be updated to be False in the future. To maintain current behavior, pass use_reentrant=True. It is recommended that you use use_reentrant=False. Refer to docs for more details on the differences between the two variants.\n",
      "  warnings.warn(\n",
      "c:\\users\\mcha0133\\desktop\\everything about bert training\\bert-ft-fp\\lib\\site-packages\\seqeval\\metrics\\v1.py:57: UndefinedMetricWarning: Precision and F-score are ill-defined and being set to 0.0 in labels with no predicted samples. Use `zero_division` parameter to control this behavior.\n",
      "  _warn_prf(average, modifier, msg_start, len(result))\n",
      "c:\\users\\mcha0133\\desktop\\everything about bert training\\bert-ft-fp\\lib\\site-packages\\torch\\utils\\checkpoint.py:429: UserWarning: torch.utils.checkpoint: please pass in use_reentrant=True or use_reentrant=False explicitly. The default value of use_reentrant will be updated to be False in the future. To maintain current behavior, pass use_reentrant=True. It is recommended that you use use_reentrant=False. Refer to docs for more details on the differences between the two variants.\n",
      "  warnings.warn(\n",
      "c:\\users\\mcha0133\\desktop\\everything about bert training\\bert-ft-fp\\lib\\site-packages\\seqeval\\metrics\\v1.py:57: UndefinedMetricWarning: Precision and F-score are ill-defined and being set to 0.0 in labels with no predicted samples. Use `zero_division` parameter to control this behavior.\n",
      "  _warn_prf(average, modifier, msg_start, len(result))\n",
      "c:\\users\\mcha0133\\desktop\\everything about bert training\\bert-ft-fp\\lib\\site-packages\\torch\\utils\\checkpoint.py:429: UserWarning: torch.utils.checkpoint: please pass in use_reentrant=True or use_reentrant=False explicitly. The default value of use_reentrant will be updated to be False in the future. To maintain current behavior, pass use_reentrant=True. It is recommended that you use use_reentrant=False. Refer to docs for more details on the differences between the two variants.\n",
      "  warnings.warn(\n",
      "c:\\users\\mcha0133\\desktop\\everything about bert training\\bert-ft-fp\\lib\\site-packages\\seqeval\\metrics\\v1.py:57: UndefinedMetricWarning: Precision and F-score are ill-defined and being set to 0.0 in labels with no predicted samples. Use `zero_division` parameter to control this behavior.\n",
      "  _warn_prf(average, modifier, msg_start, len(result))\n",
      "c:\\users\\mcha0133\\desktop\\everything about bert training\\bert-ft-fp\\lib\\site-packages\\seqeval\\metrics\\v1.py:57: UndefinedMetricWarning: Recall and F-score are ill-defined and being set to 0.0 in labels with no true samples. Use `zero_division` parameter to control this behavior.\n",
      "  _warn_prf(average, modifier, msg_start, len(result))\n",
      "c:\\users\\mcha0133\\desktop\\everything about bert training\\bert-ft-fp\\lib\\site-packages\\torch\\utils\\checkpoint.py:429: UserWarning: torch.utils.checkpoint: please pass in use_reentrant=True or use_reentrant=False explicitly. The default value of use_reentrant will be updated to be False in the future. To maintain current behavior, pass use_reentrant=True. It is recommended that you use use_reentrant=False. Refer to docs for more details on the differences between the two variants.\n",
      "  warnings.warn(\n",
      "c:\\users\\mcha0133\\desktop\\everything about bert training\\bert-ft-fp\\lib\\site-packages\\seqeval\\metrics\\v1.py:57: UndefinedMetricWarning: Precision and F-score are ill-defined and being set to 0.0 in labels with no predicted samples. Use `zero_division` parameter to control this behavior.\n",
      "  _warn_prf(average, modifier, msg_start, len(result))\n",
      "c:\\users\\mcha0133\\desktop\\everything about bert training\\bert-ft-fp\\lib\\site-packages\\torch\\utils\\checkpoint.py:429: UserWarning: torch.utils.checkpoint: please pass in use_reentrant=True or use_reentrant=False explicitly. The default value of use_reentrant will be updated to be False in the future. To maintain current behavior, pass use_reentrant=True. It is recommended that you use use_reentrant=False. Refer to docs for more details on the differences between the two variants.\n",
      "  warnings.warn(\n",
      "c:\\users\\mcha0133\\desktop\\everything about bert training\\bert-ft-fp\\lib\\site-packages\\seqeval\\metrics\\v1.py:57: UndefinedMetricWarning: Precision and F-score are ill-defined and being set to 0.0 in labels with no predicted samples. Use `zero_division` parameter to control this behavior.\n",
      "  _warn_prf(average, modifier, msg_start, len(result))\n",
      "c:\\users\\mcha0133\\desktop\\everything about bert training\\bert-ft-fp\\lib\\site-packages\\torch\\utils\\checkpoint.py:429: UserWarning: torch.utils.checkpoint: please pass in use_reentrant=True or use_reentrant=False explicitly. The default value of use_reentrant will be updated to be False in the future. To maintain current behavior, pass use_reentrant=True. It is recommended that you use use_reentrant=False. Refer to docs for more details on the differences between the two variants.\n",
      "  warnings.warn(\n",
      "c:\\users\\mcha0133\\desktop\\everything about bert training\\bert-ft-fp\\lib\\site-packages\\torch\\utils\\checkpoint.py:429: UserWarning: torch.utils.checkpoint: please pass in use_reentrant=True or use_reentrant=False explicitly. The default value of use_reentrant will be updated to be False in the future. To maintain current behavior, pass use_reentrant=True. It is recommended that you use use_reentrant=False. Refer to docs for more details on the differences between the two variants.\n",
      "  warnings.warn(\n",
      "c:\\users\\mcha0133\\desktop\\everything about bert training\\bert-ft-fp\\lib\\site-packages\\torch\\utils\\checkpoint.py:429: UserWarning: torch.utils.checkpoint: please pass in use_reentrant=True or use_reentrant=False explicitly. The default value of use_reentrant will be updated to be False in the future. To maintain current behavior, pass use_reentrant=True. It is recommended that you use use_reentrant=False. Refer to docs for more details on the differences between the two variants.\n",
      "  warnings.warn(\n",
      "c:\\users\\mcha0133\\desktop\\everything about bert training\\bert-ft-fp\\lib\\site-packages\\torch\\utils\\checkpoint.py:429: UserWarning: torch.utils.checkpoint: please pass in use_reentrant=True or use_reentrant=False explicitly. The default value of use_reentrant will be updated to be False in the future. To maintain current behavior, pass use_reentrant=True. It is recommended that you use use_reentrant=False. Refer to docs for more details on the differences between the two variants.\n",
      "  warnings.warn(\n",
      "c:\\users\\mcha0133\\desktop\\everything about bert training\\bert-ft-fp\\lib\\site-packages\\torch\\utils\\checkpoint.py:429: UserWarning: torch.utils.checkpoint: please pass in use_reentrant=True or use_reentrant=False explicitly. The default value of use_reentrant will be updated to be False in the future. To maintain current behavior, pass use_reentrant=True. It is recommended that you use use_reentrant=False. Refer to docs for more details on the differences between the two variants.\n",
      "  warnings.warn(\n",
      "c:\\users\\mcha0133\\desktop\\everything about bert training\\bert-ft-fp\\lib\\site-packages\\torch\\utils\\checkpoint.py:429: UserWarning: torch.utils.checkpoint: please pass in use_reentrant=True or use_reentrant=False explicitly. The default value of use_reentrant will be updated to be False in the future. To maintain current behavior, pass use_reentrant=True. It is recommended that you use use_reentrant=False. Refer to docs for more details on the differences between the two variants.\n",
      "  warnings.warn(\n",
      "c:\\users\\mcha0133\\desktop\\everything about bert training\\bert-ft-fp\\lib\\site-packages\\torch\\utils\\checkpoint.py:429: UserWarning: torch.utils.checkpoint: please pass in use_reentrant=True or use_reentrant=False explicitly. The default value of use_reentrant will be updated to be False in the future. To maintain current behavior, pass use_reentrant=True. It is recommended that you use use_reentrant=False. Refer to docs for more details on the differences between the two variants.\n",
      "  warnings.warn(\n",
      "c:\\users\\mcha0133\\desktop\\everything about bert training\\bert-ft-fp\\lib\\site-packages\\torch\\utils\\checkpoint.py:429: UserWarning: torch.utils.checkpoint: please pass in use_reentrant=True or use_reentrant=False explicitly. The default value of use_reentrant will be updated to be False in the future. To maintain current behavior, pass use_reentrant=True. It is recommended that you use use_reentrant=False. Refer to docs for more details on the differences between the two variants.\n",
      "  warnings.warn(\n",
      "c:\\users\\mcha0133\\desktop\\everything about bert training\\bert-ft-fp\\lib\\site-packages\\torch\\utils\\checkpoint.py:429: UserWarning: torch.utils.checkpoint: please pass in use_reentrant=True or use_reentrant=False explicitly. The default value of use_reentrant will be updated to be False in the future. To maintain current behavior, pass use_reentrant=True. It is recommended that you use use_reentrant=False. Refer to docs for more details on the differences between the two variants.\n",
      "  warnings.warn(\n",
      "c:\\users\\mcha0133\\desktop\\everything about bert training\\bert-ft-fp\\lib\\site-packages\\torch\\utils\\checkpoint.py:429: UserWarning: torch.utils.checkpoint: please pass in use_reentrant=True or use_reentrant=False explicitly. The default value of use_reentrant will be updated to be False in the future. To maintain current behavior, pass use_reentrant=True. It is recommended that you use use_reentrant=False. Refer to docs for more details on the differences between the two variants.\n",
      "  warnings.warn(\n",
      "c:\\users\\mcha0133\\desktop\\everything about bert training\\bert-ft-fp\\lib\\site-packages\\torch\\utils\\checkpoint.py:429: UserWarning: torch.utils.checkpoint: please pass in use_reentrant=True or use_reentrant=False explicitly. The default value of use_reentrant will be updated to be False in the future. To maintain current behavior, pass use_reentrant=True. It is recommended that you use use_reentrant=False. Refer to docs for more details on the differences between the two variants.\n",
      "  warnings.warn(\n",
      "c:\\users\\mcha0133\\desktop\\everything about bert training\\bert-ft-fp\\lib\\site-packages\\torch\\utils\\checkpoint.py:429: UserWarning: torch.utils.checkpoint: please pass in use_reentrant=True or use_reentrant=False explicitly. The default value of use_reentrant will be updated to be False in the future. To maintain current behavior, pass use_reentrant=True. It is recommended that you use use_reentrant=False. Refer to docs for more details on the differences between the two variants.\n",
      "  warnings.warn(\n",
      "c:\\users\\mcha0133\\desktop\\everything about bert training\\bert-ft-fp\\lib\\site-packages\\torch\\utils\\checkpoint.py:429: UserWarning: torch.utils.checkpoint: please pass in use_reentrant=True or use_reentrant=False explicitly. The default value of use_reentrant will be updated to be False in the future. To maintain current behavior, pass use_reentrant=True. It is recommended that you use use_reentrant=False. Refer to docs for more details on the differences between the two variants.\n",
      "  warnings.warn(\n"
     ]
    },
    {
     "name": "stdout",
     "output_type": "stream",
     "text": [
      "CPU times: total: 2min 14s\n",
      "Wall time: 2min 17s\n"
     ]
    },
    {
     "data": {
      "text/plain": [
       "TrainOutput(global_step=180, training_loss=0.25365321073267194, metrics={'train_runtime': 135.0179, 'train_samples_per_second': 22.219, 'train_steps_per_second': 1.333, 'total_flos': 731942355536436.0, 'train_loss': 0.25365321073267194, 'epoch': 18.95})"
      ]
     },
     "execution_count": 23,
     "metadata": {},
     "output_type": "execute_result"
    }
   ],
   "source": [
    "%%time\n",
    "\n",
    "trainer.train()"
   ]
  },
  {
   "cell_type": "markdown",
   "id": "e155c68a-79ab-438c-96c2-7f4dd556cbc1",
   "metadata": {},
   "source": [
    "# Evaluation"
   ]
  },
  {
   "cell_type": "code",
   "execution_count": 27,
   "id": "24241201-e31a-4962-8e4b-161602e1bef9",
   "metadata": {},
   "outputs": [
    {
     "data": {
      "text/html": [],
      "text/plain": [
       "<IPython.core.display.HTML object>"
      ]
     },
     "metadata": {},
     "output_type": "display_data"
    },
    {
     "data": {
      "text/plain": [
       "{'eval_loss': 0.18850915133953094,\n",
       " 'eval_precision': 0.7384259259259259,\n",
       " 'eval_recall': 0.7909090909090909,\n",
       " 'eval_f1': 0.7637669592976856,\n",
       " 'eval_accuracy': 0.9539206362929022,\n",
       " 'eval_runtime': 0.7347,\n",
       " 'eval_samples_per_second': 40.832,\n",
       " 'eval_steps_per_second': 10.888,\n",
       " 'epoch': 18.95}"
      ]
     },
     "execution_count": 27,
     "metadata": {},
     "output_type": "execute_result"
    }
   ],
   "source": [
    "trainer.evaluate()"
   ]
  },
  {
   "cell_type": "code",
   "execution_count": 28,
   "id": "3aebd102-26df-4709-8136-6af63bbef4de",
   "metadata": {},
   "outputs": [
    {
     "data": {
      "text/plain": [
       "{'EVENT': {'precision': 0.609375,\n",
       "  'recall': 0.75,\n",
       "  'f1': 0.6724137931034483,\n",
       "  'number': 52},\n",
       " 'FACILITY': {'precision': 0.22857142857142856,\n",
       "  'recall': 0.25,\n",
       "  'f1': 0.23880597014925375,\n",
       "  'number': 32},\n",
       " 'LOCATION': {'precision': 0.8771929824561403,\n",
       "  'recall': 0.847457627118644,\n",
       "  'f1': 0.8620689655172413,\n",
       "  'number': 295},\n",
       " 'NORP': {'precision': 1.0,\n",
       "  'recall': 0.8,\n",
       "  'f1': 0.888888888888889,\n",
       "  'number': 5},\n",
       " 'ORGANIZATION': {'precision': 0.8048780487804879,\n",
       "  'recall': 0.8208955223880597,\n",
       "  'f1': 0.8128078817733989,\n",
       "  'number': 603},\n",
       " 'PERSON': {'precision': 0.6907216494845361,\n",
       "  'recall': 0.8072289156626506,\n",
       "  'f1': 0.7444444444444445,\n",
       "  'number': 166},\n",
       " 'PRODUCT': {'precision': 0.13725490196078433,\n",
       "  'recall': 0.875,\n",
       "  'f1': 0.23728813559322037,\n",
       "  'number': 8},\n",
       " 'ROLE': {'precision': 0.4146341463414634,\n",
       "  'recall': 0.37777777777777777,\n",
       "  'f1': 0.39534883720930236,\n",
       "  'number': 45},\n",
       " 'TITLE': {'precision': 0.42857142857142855,\n",
       "  'recall': 0.75,\n",
       "  'f1': 0.5454545454545454,\n",
       "  'number': 4},\n",
       " 'overall_precision': 0.7384259259259259,\n",
       " 'overall_recall': 0.7909090909090909,\n",
       " 'overall_f1': 0.7637669592976856,\n",
       " 'overall_accuracy': 0.9539206362929022}"
      ]
     },
     "execution_count": 28,
     "metadata": {},
     "output_type": "execute_result"
    }
   ],
   "source": [
    "predictions, labels, _ = trainer.predict(valid_set)\n",
    "predictions = np.argmax(predictions, axis=2)\n",
    "\n",
    "label2id_str = list(label2id.keys())\n",
    "# Remove ignored index (special tokens)\n",
    "true_predictions = [\n",
    "    [label2id_str[p] for (p, l) in zip(prediction, label) if l != -100]\n",
    "    for prediction, label in zip(predictions, labels)\n",
    "]\n",
    "true_labels = [\n",
    "    [label2id_str[l] for (p, l) in zip(prediction, label) if l != -100]\n",
    "    for prediction, label in zip(predictions, labels)\n",
    "]\n",
    "\n",
    "results = metric.compute(predictions=true_predictions, references=true_labels)\n",
    "results"
   ]
  },
  {
   "cell_type": "code",
   "execution_count": 29,
   "id": "22ac8464-3687-481f-a205-d580b74eb80b",
   "metadata": {},
   "outputs": [
    {
     "data": {
      "text/plain": [
       "('./final_tokenizer\\\\tokenizer_config.json',\n",
       " './final_tokenizer\\\\special_tokens_map.json',\n",
       " './final_tokenizer\\\\vocab.txt',\n",
       " './final_tokenizer\\\\added_tokens.json',\n",
       " './final_tokenizer\\\\tokenizer.json')"
      ]
     },
     "execution_count": 29,
     "metadata": {},
     "output_type": "execute_result"
    }
   ],
   "source": [
    "os.makedirs(f\"./final_model\", exist_ok=True)\n",
    "final_model = f\"./final_model\"\n",
    "os.makedirs(final_model, exist_ok=True)\n",
    "\n",
    "trainer.save_model(final_model)\n",
    "\n",
    "os.makedirs(f\"./final_tokenizer\", exist_ok=True)\n",
    "final_tokenizer = f\"./final_tokenizer\"\n",
    "os.makedirs(final_tokenizer, exist_ok=True)\n",
    "tokenizer.save_pretrained(final_tokenizer)"
   ]
  },
  {
   "cell_type": "code",
   "execution_count": null,
   "id": "71261209-d474-42ff-a7b5-ca164f7916a6",
   "metadata": {},
   "outputs": [],
   "source": []
  }
 ],
 "metadata": {
  "kernelspec": {
   "display_name": "bert-ft-fp",
   "language": "python",
   "name": "bert-ft-fp"
  },
  "language_info": {
   "codemirror_mode": {
    "name": "ipython",
    "version": 3
   },
   "file_extension": ".py",
   "mimetype": "text/x-python",
   "name": "python",
   "nbconvert_exporter": "python",
   "pygments_lexer": "ipython3",
   "version": "3.8.10"
  }
 },
 "nbformat": 4,
 "nbformat_minor": 5
}
