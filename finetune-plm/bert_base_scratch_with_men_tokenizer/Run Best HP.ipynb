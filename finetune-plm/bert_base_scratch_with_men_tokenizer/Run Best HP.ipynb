{
 "cells": [
  {
   "cell_type": "markdown",
   "id": "8885c288",
   "metadata": {},
   "source": [
    "# Import Library"
   ]
  },
  {
   "cell_type": "code",
   "execution_count": 1,
   "id": "2bfd5f7d",
   "metadata": {},
   "outputs": [
    {
     "name": "stderr",
     "output_type": "stream",
     "text": [
      "c:\\users\\mcha0133\\desktop\\everything about bert training\\bert-ft-fp\\lib\\site-packages\\tqdm\\auto.py:21: TqdmWarning: IProgress not found. Please update jupyter and ipywidgets. See https://ipywidgets.readthedocs.io/en/stable/user_install.html\n",
      "  from .autonotebook import tqdm as notebook_tqdm\n"
     ]
    }
   ],
   "source": [
    "import os\n",
    "import json\n",
    "import torch\n",
    "import numpy as np\n",
    "import pandas as pd\n",
    "from nltk.tokenize import word_tokenize\n",
    "from datasets import load_metric, load_dataset, Dataset\n",
    "from transformers import BertTokenizerFast, BertForTokenClassification, TrainingArguments, Trainer, DataCollatorForTokenClassification"
   ]
  },
  {
   "cell_type": "code",
   "execution_count": 2,
   "id": "6a6374ae-3498-442a-b18d-f991e794f7d4",
   "metadata": {},
   "outputs": [],
   "source": [
    "DRIVER_LETTER = os.path.splitdrive(os.getcwd())[0]"
   ]
  },
  {
   "cell_type": "markdown",
   "id": "fe64494e-6c41-4531-9b81-b67f2442d408",
   "metadata": {},
   "source": [
    "## Configurations"
   ]
  },
  {
   "cell_type": "code",
   "execution_count": 3,
   "id": "d27436f8-24cf-461e-a52a-14fd2f781cb6",
   "metadata": {},
   "outputs": [],
   "source": [
    "FURTHER_PRETRAINED_FOLDER = \"bert_base_scratch_with_men_tokenizer\"\n",
    "logging_dir = \"./logs_final\"\n",
    "output_dir = \"./pretrained_bert_final\""
   ]
  },
  {
   "cell_type": "code",
   "execution_count": 4,
   "id": "de729755-e1f7-4081-a446-41636e03b2ca",
   "metadata": {},
   "outputs": [
    {
     "name": "stdout",
     "output_type": "stream",
     "text": [
      "{'learning_rate': 5e-05, 'num_train_epochs': 30, 'per_device_train_batch_size': 4, 'weight_decay': 0.01, 'assignments': {}, 'metric': 'eval/loss'}\n"
     ]
    }
   ],
   "source": [
    "# Define hyperparameter grid\n",
    "with open(\"best-parameter.json\",\"r\") as f:\n",
    "    hyperparameters = json.load(f)\n",
    "print(hyperparameters)"
   ]
  },
  {
   "cell_type": "code",
   "execution_count": 5,
   "id": "07851a28-d6dc-4cb6-8fcd-74e09fe31a1f",
   "metadata": {},
   "outputs": [],
   "source": [
    "FP_DIR = \"../../pretrained-lm/MENBERT-SC\""
   ]
  },
  {
   "cell_type": "code",
   "execution_count": 6,
   "id": "82ffe9c8-09cf-4487-b856-3ed5b3945750",
   "metadata": {},
   "outputs": [
    {
     "data": {
      "text/plain": [
       "'C:/Users/mcha0133/Desktop/Everything About BERT Training/Further Pretraining BERT/bert_base_scratch_with_men_tokenizer/epoch-optimized'"
      ]
     },
     "execution_count": 6,
     "metadata": {},
     "output_type": "execute_result"
    }
   ],
   "source": [
    "FP_DIR"
   ]
  },
  {
   "cell_type": "code",
   "execution_count": 7,
   "id": "e43d399b",
   "metadata": {},
   "outputs": [
    {
     "name": "stderr",
     "output_type": "stream",
     "text": [
      "Special tokens have been added in the vocabulary, make sure the associated word embeddings are fine-tuned or trained.\n"
     ]
    }
   ],
   "source": [
    "tokenizer = BertTokenizerFast.from_pretrained(f\"{FP_DIR}/final_vocab\", model_max_length=512)"
   ]
  },
  {
   "cell_type": "code",
   "execution_count": 8,
   "id": "df0eeadc-8036-46a6-bf89-76532f29fb8b",
   "metadata": {},
   "outputs": [
    {
     "name": "stdout",
     "output_type": "stream",
     "text": [
      "Using device: cuda\n",
      "\n",
      "NVIDIA GeForce RTX 2080\n",
      "Memory Usage:\n",
      "Allocated: 0.0 GB\n",
      "Cached:    0.0 GB\n"
     ]
    }
   ],
   "source": [
    "torch.cuda.empty_cache()\n",
    "\n",
    "device = torch.device('cuda' if torch.cuda.is_available() else 'cpu')\n",
    "torch.cuda.get_device_name(0)\n",
    "print('Using device:', device)\n",
    "print()\n",
    "\n",
    "#Additional Info when using cuda\n",
    "if device.type == 'cuda':\n",
    "    print(torch.cuda.get_device_name(0))\n",
    "    print('Memory Usage:')\n",
    "    print('Allocated:', round(torch.cuda.memory_allocated(0)/1024**3,1), 'GB')\n",
    "    print('Cached:   ', round(torch.cuda.memory_reserved(0)/1024**3,1), 'GB')"
   ]
  },
  {
   "cell_type": "code",
   "execution_count": 9,
   "id": "9cce0faf",
   "metadata": {},
   "outputs": [
    {
     "name": "stdout",
     "output_type": "stream",
     "text": [
      "cuda\n"
     ]
    }
   ],
   "source": [
    "device = 'cuda' if torch.cuda.is_available() else 'cpu'\n",
    "print(device)"
   ]
  },
  {
   "cell_type": "markdown",
   "id": "138952a8",
   "metadata": {},
   "source": [
    "# Import Dataset"
   ]
  },
  {
   "cell_type": "code",
   "execution_count": 11,
   "id": "7e7036ba-1e2d-4263-a1f7-a51dad749cf4",
   "metadata": {},
   "outputs": [
    {
     "name": "stdout",
     "output_type": "stream",
     "text": [
      "(150, 3)\n",
      "(20, 3)\n",
      "(30, 3)\n"
     ]
    }
   ],
   "source": [
    "train = pd.read_json(\"./bio-tag-dataset/train_bio.json\")\n",
    "train = train[[\"text\",\"entities\"]]\n",
    "train[\"token\"] = train[\"text\"].apply(lambda x: word_tokenize(x))\n",
    "\n",
    "test = pd.read_json(\"./bio-tag-dataset/test_bio.json\")\n",
    "test = test[[\"text\",\"entities\"]]\n",
    "test[\"token\"] = test[\"text\"].apply(lambda x: word_tokenize(x))\n",
    "\n",
    "valid = pd.read_json(\"./bio-tag-dataset/validation_bio.json\")\n",
    "valid = valid[[\"text\",\"entities\"]]\n",
    "valid[\"token\"] = valid[\"text\"].apply(lambda x: word_tokenize(x))\n",
    "\n",
    "print(train.shape)\n",
    "print(test.shape)\n",
    "print(valid.shape)"
   ]
  },
  {
   "cell_type": "markdown",
   "id": "e4b4e505",
   "metadata": {},
   "source": [
    "# Format BIO Dataset - Processing"
   ]
  },
  {
   "cell_type": "code",
   "execution_count": 12,
   "id": "cecabd96",
   "metadata": {},
   "outputs": [
    {
     "name": "stdout",
     "output_type": "stream",
     "text": [
      "['O', 'B-PRODUCT', 'B-LAW', 'I-TITLE', 'I-LAW', 'I-PRODUCT', 'B-ORGANIZATION', 'B-LOCATION', 'I-FACILITY', 'I-LOCATION', 'B-NORP', 'I-ROLE', 'I-EVENT', 'B-PERSON', 'B-FACILITY', 'B-WORK_OF_ART', 'B-TITLE', 'I-WORK_OF_ART', 'I-NORP', 'B-EVENT', 'B-ROLE', 'I-PERSON', 'I-ORGANIZATION']\n",
      "{'B-EVENT': 0, 'B-FACILITY': 1, 'B-LAW': 2, 'B-LOCATION': 3, 'B-NORP': 4, 'B-ORGANIZATION': 5, 'B-PERSON': 6, 'B-PRODUCT': 7, 'B-ROLE': 8, 'B-TITLE': 9, 'B-WORK_OF_ART': 10, 'I-EVENT': 11, 'I-FACILITY': 12, 'I-LAW': 13, 'I-LOCATION': 14, 'I-NORP': 15, 'I-ORGANIZATION': 16, 'I-PERSON': 17, 'I-PRODUCT': 18, 'I-ROLE': 19, 'I-TITLE': 20, 'I-WORK_OF_ART': 21, 'O': 22}\n"
     ]
    }
   ],
   "source": [
    "# Split labels based on whitespace and turn them into a list\n",
    "labels = [i for i in train['entities'].values.tolist()]\n",
    "\n",
    "# Check how many labels are there in the dataset\n",
    "unique_labels = set()\n",
    "\n",
    "for lb in labels:\n",
    "    [unique_labels.add(i) for i in lb if i not in unique_labels]\n",
    "\n",
    "unique_labels = list(unique_labels)\n",
    "print(unique_labels)\n",
    "\n",
    "# Map each label into its id representation and vice versa\n",
    "label2id = {k: v for v, k in enumerate(sorted(unique_labels))}\n",
    "id2label  = {v: k for v, k in enumerate(sorted(unique_labels))}\n",
    "print(label2id)"
   ]
  },
  {
   "cell_type": "code",
   "execution_count": 13,
   "id": "9a06442d",
   "metadata": {},
   "outputs": [],
   "source": [
    "train['entities'] = train['entities'].apply(lambda entities: [label2id[ent] for ent in entities])\n",
    "test['entities'] = test['entities'].apply(lambda entities: [label2id[ent] for ent in entities])\n",
    "valid['entities'] = valid['entities'].apply(lambda entities: [label2id[ent] for ent in entities])"
   ]
  },
  {
   "cell_type": "code",
   "execution_count": 14,
   "id": "3d9c590f",
   "metadata": {},
   "outputs": [],
   "source": [
    "train_dataset = Dataset.from_pandas(train)\n",
    "test_dataset = Dataset.from_pandas(test)\n",
    "valid_dataset = Dataset.from_pandas(valid)"
   ]
  },
  {
   "cell_type": "markdown",
   "id": "20757074",
   "metadata": {},
   "source": [
    "# Tokenize Dataset"
   ]
  },
  {
   "cell_type": "code",
   "execution_count": 15,
   "id": "68272d42",
   "metadata": {},
   "outputs": [],
   "source": [
    "label_all_tokens = True"
   ]
  },
  {
   "cell_type": "code",
   "execution_count": 16,
   "id": "b27bd599",
   "metadata": {},
   "outputs": [],
   "source": [
    "def tokenize_and_align_labels(examples):\n",
    "    tokenized_inputs = tokenizer(examples[\"token\"], truncation=True, is_split_into_words=True)\n",
    "\n",
    "    labels = []\n",
    "    for i, label in enumerate(examples[\"entities\"]):\n",
    "        word_ids = tokenized_inputs.word_ids(batch_index=i)\n",
    "        previous_word_idx = None\n",
    "        label_ids = []\n",
    "        for word_idx in word_ids:\n",
    "            # Special tokens have a word id that is None. We set the label to -100 so they are automatically\n",
    "            # ignored in the loss function.\n",
    "            if word_idx is None:\n",
    "                label_ids.append(-100)\n",
    "            # We set the label for the first token of each word.\n",
    "            elif word_idx != previous_word_idx:\n",
    "                label_ids.append(label[word_idx])\n",
    "            # For the other tokens in a word, we set the label to either the current label or -100, depending on\n",
    "            # the label_all_tokens flag.\n",
    "            else:\n",
    "                label_ids.append(label[word_idx] if label_all_tokens else -100)\n",
    "            previous_word_idx = word_idx\n",
    "\n",
    "        labels.append(label_ids)\n",
    "\n",
    "    tokenized_inputs[\"labels\"] = labels\n",
    "    return tokenized_inputs"
   ]
  },
  {
   "cell_type": "code",
   "execution_count": 17,
   "id": "f72c638f-3311-4764-8af0-6f96726c2531",
   "metadata": {},
   "outputs": [
    {
     "name": "stderr",
     "output_type": "stream",
     "text": [
      "Map: 100%|███████████████████████████████████████████████████████████████████| 150/150 [00:00<00:00, 680.28 examples/s]\n",
      "Map: 100%|█████████████████████████████████████████████████████████████████████| 20/20 [00:00<00:00, 691.06 examples/s]\n",
      "Map: 100%|█████████████████████████████████████████████████████████████████████| 30/30 [00:00<00:00, 683.34 examples/s]\n"
     ]
    }
   ],
   "source": [
    "training_set = train_dataset.map(tokenize_and_align_labels, batched=True)\n",
    "testing_set = test_dataset.map(tokenize_and_align_labels, batched=True)\n",
    "valid_set = valid_dataset.map(tokenize_and_align_labels, batched=True)"
   ]
  },
  {
   "cell_type": "markdown",
   "id": "62adaf43",
   "metadata": {},
   "source": [
    "# Set an Initialize BERT Model"
   ]
  },
  {
   "cell_type": "code",
   "execution_count": 18,
   "id": "a8da2e08",
   "metadata": {},
   "outputs": [],
   "source": [
    "# model = BertForTokenClassification.from_pretrained('bert-base-cased', \n",
    "#                                                    num_labels=len(id2label),\n",
    "#                                                    id2label=id2label,\n",
    "#                                                    label2id=label2id)\n",
    "def model_init():\n",
    "    return(BertForTokenClassification.from_pretrained(f\"{FP_DIR}/final_bert\", num_labels=len(id2label), id2label=id2label, label2id=label2id))"
   ]
  },
  {
   "cell_type": "code",
   "execution_count": 19,
   "id": "ac71e516",
   "metadata": {},
   "outputs": [],
   "source": [
    "# Define training arguments\n",
    "training_args = TrainingArguments(\n",
    "    output_dir=output_dir,\n",
    "    num_train_epochs=hyperparameters[\"num_train_epochs\"],\n",
    "    per_device_train_batch_size=hyperparameters[\"per_device_train_batch_size\"],\n",
    "    per_device_eval_batch_size=hyperparameters[\"per_device_train_batch_size\"],\n",
    "    save_total_limit=2,\n",
    "    logging_dir=logging_dir,\n",
    "    learning_rate=hyperparameters[\"learning_rate\"],\n",
    "    weight_decay=hyperparameters['weight_decay'],\n",
    "    logging_first_step=True,\n",
    "    evaluation_strategy = \"epoch\",\n",
    "    logging_strategy=\"epoch\",\n",
    "    save_strategy=\"epoch\", \n",
    "    resume_from_checkpoint=True,\n",
    "    fp16=True,\n",
    "    gradient_accumulation_steps=4,\n",
    "    gradient_checkpointing=True,\n",
    "    optim=\"adafactor\",\n",
    "    metric_for_best_model=\"eval_f1\",\n",
    "    report_to=\"wandb\",\n",
    "    #optim=\"adamw_bnb_8bit\",\n",
    "    run_name=FURTHER_PRETRAINED_FOLDER,\n",
    "    load_best_model_at_end=True,\n",
    "    disable_tqdm=False  # Disable tqdm progress bar if desired\n",
    ")"
   ]
  },
  {
   "cell_type": "code",
   "execution_count": 20,
   "id": "9340e048-e2f5-4f50-a691-641fe7e18fb5",
   "metadata": {},
   "outputs": [],
   "source": [
    "data_collator = DataCollatorForTokenClassification(tokenizer)"
   ]
  },
  {
   "cell_type": "code",
   "execution_count": 21,
   "id": "b967a971-6e42-42d1-8d85-02f7c2cd62f6",
   "metadata": {},
   "outputs": [
    {
     "name": "stderr",
     "output_type": "stream",
     "text": [
      "C:\\Users\\mcha0133\\AppData\\Local\\Temp\\ipykernel_26724\\152412463.py:1: FutureWarning: load_metric is deprecated and will be removed in the next major version of datasets. Use 'evaluate.load' instead, from the new library 🤗 Evaluate: https://huggingface.co/docs/evaluate\n",
      "  metric = load_metric(\"seqeval\")\n"
     ]
    }
   ],
   "source": [
    "metric = load_metric(\"seqeval\")"
   ]
  },
  {
   "cell_type": "code",
   "execution_count": 22,
   "id": "9ecc0a09-e17c-4248-9ea8-5f765202bdf3",
   "metadata": {},
   "outputs": [],
   "source": [
    "def compute_metrics(p):\n",
    "    predictions, labels = p\n",
    "    predictions = np.argmax(predictions, axis=2)\n",
    "\n",
    "    label2id_str = list(label2id.keys())\n",
    "    \n",
    "    # Remove ignored index (special tokens)\n",
    "    true_predictions = [\n",
    "        [label2id_str[p] for (p, l) in zip(prediction, label) if l != -100]\n",
    "        for prediction, label in zip(predictions, labels)\n",
    "    ]\n",
    "    true_labels = [\n",
    "        [label2id_str[l] for (p, l) in zip(prediction, label) if l != -100]\n",
    "        for prediction, label in zip(predictions, labels)\n",
    "    ]\n",
    "\n",
    "    results = metric.compute(predictions=true_predictions, references=true_labels)\n",
    "    return {\n",
    "        \"precision\": results[\"overall_precision\"],\n",
    "        \"recall\": results[\"overall_recall\"],\n",
    "        \"f1\": results[\"overall_f1\"],\n",
    "        \"accuracy\": results[\"overall_accuracy\"],\n",
    "    }"
   ]
  },
  {
   "cell_type": "code",
   "execution_count": 23,
   "id": "87f5e038-4608-4732-b000-42317c18766a",
   "metadata": {},
   "outputs": [
    {
     "name": "stderr",
     "output_type": "stream",
     "text": [
      "Some weights of BertForTokenClassification were not initialized from the model checkpoint at C:/Users/mcha0133/Desktop/Everything About BERT Training/Further Pretraining BERT/bert_base_scratch_with_men_tokenizer/epoch-optimized/final_bert and are newly initialized: ['classifier.bias', 'classifier.weight']\n",
      "You should probably TRAIN this model on a down-stream task to be able to use it for predictions and inference.\n"
     ]
    }
   ],
   "source": [
    "trainer = Trainer(\n",
    "    args=training_args,\n",
    "    tokenizer=tokenizer,\n",
    "    train_dataset=training_set,\n",
    "    eval_dataset=valid_set,\n",
    "    model_init=model_init,\n",
    "    data_collator=data_collator,\n",
    "    compute_metrics=compute_metrics,\n",
    ")"
   ]
  },
  {
   "cell_type": "code",
   "execution_count": 24,
   "id": "c2810061-bd6b-473b-8ea4-172e00af361c",
   "metadata": {},
   "outputs": [
    {
     "name": "stderr",
     "output_type": "stream",
     "text": [
      "Some weights of BertForTokenClassification were not initialized from the model checkpoint at C:/Users/mcha0133/Desktop/Everything About BERT Training/Further Pretraining BERT/bert_base_scratch_with_men_tokenizer/epoch-optimized/final_bert and are newly initialized: ['classifier.bias', 'classifier.weight']\n",
      "You should probably TRAIN this model on a down-stream task to be able to use it for predictions and inference.\n",
      "Failed to detect the name of this notebook, you can set it manually with the WANDB_NOTEBOOK_NAME environment variable to enable code saving.\n",
      "\u001b[34m\u001b[1mwandb\u001b[0m: Currently logged in as: \u001b[33mmohanrj-nlp\u001b[0m. Use \u001b[1m`wandb login --relogin`\u001b[0m to force relogin\n"
     ]
    },
    {
     "data": {
      "text/html": [
       "Tracking run with wandb version 0.15.12"
      ],
      "text/plain": [
       "<IPython.core.display.HTML object>"
      ]
     },
     "metadata": {},
     "output_type": "display_data"
    },
    {
     "data": {
      "text/html": [
       "Run data is saved locally in <code>C:\\Users\\mcha0133\\Desktop\\Everything About BERT Training\\Fine Tune BERT NER\\bert_base_scratch_with_men_tokenizer\\wandb\\run-20231007_155117-5wyyv1hm</code>"
      ],
      "text/plain": [
       "<IPython.core.display.HTML object>"
      ]
     },
     "metadata": {},
     "output_type": "display_data"
    },
    {
     "data": {
      "text/html": [
       "Syncing run <strong><a href='https://wandb.ai/mohanrj-nlp/huggingface/runs/5wyyv1hm' target=\"_blank\">bert_base_scratch_with_men_tokenizer</a></strong> to <a href='https://wandb.ai/mohanrj-nlp/huggingface' target=\"_blank\">Weights & Biases</a> (<a href='https://wandb.me/run' target=\"_blank\">docs</a>)<br/>"
      ],
      "text/plain": [
       "<IPython.core.display.HTML object>"
      ]
     },
     "metadata": {},
     "output_type": "display_data"
    },
    {
     "data": {
      "text/html": [
       " View project at <a href='https://wandb.ai/mohanrj-nlp/huggingface' target=\"_blank\">https://wandb.ai/mohanrj-nlp/huggingface</a>"
      ],
      "text/plain": [
       "<IPython.core.display.HTML object>"
      ]
     },
     "metadata": {},
     "output_type": "display_data"
    },
    {
     "data": {
      "text/html": [
       " View run at <a href='https://wandb.ai/mohanrj-nlp/huggingface/runs/5wyyv1hm' target=\"_blank\">https://wandb.ai/mohanrj-nlp/huggingface/runs/5wyyv1hm</a>"
      ],
      "text/plain": [
       "<IPython.core.display.HTML object>"
      ]
     },
     "metadata": {},
     "output_type": "display_data"
    },
    {
     "name": "stderr",
     "output_type": "stream",
     "text": [
      "You're using a BertTokenizerFast tokenizer. Please note that with a fast tokenizer, using the `__call__` method is faster than using a method to encode the text followed by a call to the `pad` method to get a padded encoding.\n",
      "c:\\users\\mcha0133\\desktop\\everything about bert training\\bert-ft-fp\\lib\\site-packages\\torch\\utils\\checkpoint.py:429: UserWarning: torch.utils.checkpoint: please pass in use_reentrant=True or use_reentrant=False explicitly. The default value of use_reentrant will be updated to be False in the future. To maintain current behavior, pass use_reentrant=True. It is recommended that you use use_reentrant=False. Refer to docs for more details on the differences between the two variants.\n",
      "  warnings.warn(\n"
     ]
    },
    {
     "data": {
      "text/html": [
       "\n",
       "    <div>\n",
       "      \n",
       "      <progress value='270' max='270' style='width:300px; height:20px; vertical-align: middle;'></progress>\n",
       "      [270/270 01:53, Epoch 28/30]\n",
       "    </div>\n",
       "    <table border=\"1\" class=\"dataframe\">\n",
       "  <thead>\n",
       " <tr style=\"text-align: left;\">\n",
       "      <th>Epoch</th>\n",
       "      <th>Training Loss</th>\n",
       "      <th>Validation Loss</th>\n",
       "      <th>Precision</th>\n",
       "      <th>Recall</th>\n",
       "      <th>F1</th>\n",
       "      <th>Accuracy</th>\n",
       "    </tr>\n",
       "  </thead>\n",
       "  <tbody>\n",
       "    <tr>\n",
       "      <td>0</td>\n",
       "      <td>1.326700</td>\n",
       "      <td>0.933364</td>\n",
       "      <td>0.128723</td>\n",
       "      <td>0.097738</td>\n",
       "      <td>0.111111</td>\n",
       "      <td>0.816529</td>\n",
       "    </tr>\n",
       "    <tr>\n",
       "      <td>2</td>\n",
       "      <td>0.875000</td>\n",
       "      <td>0.656498</td>\n",
       "      <td>0.230366</td>\n",
       "      <td>0.177706</td>\n",
       "      <td>0.200638</td>\n",
       "      <td>0.835851</td>\n",
       "    </tr>\n",
       "    <tr>\n",
       "      <td>4</td>\n",
       "      <td>0.747200</td>\n",
       "      <td>0.590530</td>\n",
       "      <td>0.322259</td>\n",
       "      <td>0.235057</td>\n",
       "      <td>0.271836</td>\n",
       "      <td>0.843931</td>\n",
       "    </tr>\n",
       "    <tr>\n",
       "      <td>6</td>\n",
       "      <td>0.664600</td>\n",
       "      <td>0.548193</td>\n",
       "      <td>0.284410</td>\n",
       "      <td>0.327141</td>\n",
       "      <td>0.304282</td>\n",
       "      <td>0.852187</td>\n",
       "    </tr>\n",
       "    <tr>\n",
       "      <td>8</td>\n",
       "      <td>0.600900</td>\n",
       "      <td>0.526188</td>\n",
       "      <td>0.257899</td>\n",
       "      <td>0.283522</td>\n",
       "      <td>0.270104</td>\n",
       "      <td>0.851045</td>\n",
       "    </tr>\n",
       "    <tr>\n",
       "      <td>10</td>\n",
       "      <td>0.563800</td>\n",
       "      <td>0.526912</td>\n",
       "      <td>0.290429</td>\n",
       "      <td>0.284330</td>\n",
       "      <td>0.287347</td>\n",
       "      <td>0.854734</td>\n",
       "    </tr>\n",
       "    <tr>\n",
       "      <td>12</td>\n",
       "      <td>0.516600</td>\n",
       "      <td>0.557888</td>\n",
       "      <td>0.313901</td>\n",
       "      <td>0.282714</td>\n",
       "      <td>0.297493</td>\n",
       "      <td>0.854646</td>\n",
       "    </tr>\n",
       "    <tr>\n",
       "      <td>14</td>\n",
       "      <td>0.482700</td>\n",
       "      <td>0.544166</td>\n",
       "      <td>0.266086</td>\n",
       "      <td>0.320679</td>\n",
       "      <td>0.290842</td>\n",
       "      <td>0.852538</td>\n",
       "    </tr>\n",
       "    <tr>\n",
       "      <td>16</td>\n",
       "      <td>0.452200</td>\n",
       "      <td>0.538743</td>\n",
       "      <td>0.274204</td>\n",
       "      <td>0.340872</td>\n",
       "      <td>0.303925</td>\n",
       "      <td>0.853065</td>\n",
       "    </tr>\n",
       "    <tr>\n",
       "      <td>18</td>\n",
       "      <td>0.425400</td>\n",
       "      <td>0.535896</td>\n",
       "      <td>0.293832</td>\n",
       "      <td>0.342488</td>\n",
       "      <td>0.316300</td>\n",
       "      <td>0.857105</td>\n",
       "    </tr>\n",
       "    <tr>\n",
       "      <td>20</td>\n",
       "      <td>0.409500</td>\n",
       "      <td>0.540292</td>\n",
       "      <td>0.306402</td>\n",
       "      <td>0.324717</td>\n",
       "      <td>0.315294</td>\n",
       "      <td>0.858598</td>\n",
       "    </tr>\n",
       "    <tr>\n",
       "      <td>22</td>\n",
       "      <td>0.391900</td>\n",
       "      <td>0.541757</td>\n",
       "      <td>0.289299</td>\n",
       "      <td>0.316640</td>\n",
       "      <td>0.302352</td>\n",
       "      <td>0.856666</td>\n",
       "    </tr>\n",
       "    <tr>\n",
       "      <td>24</td>\n",
       "      <td>0.377400</td>\n",
       "      <td>0.541290</td>\n",
       "      <td>0.295795</td>\n",
       "      <td>0.335218</td>\n",
       "      <td>0.314275</td>\n",
       "      <td>0.859125</td>\n",
       "    </tr>\n",
       "    <tr>\n",
       "      <td>26</td>\n",
       "      <td>0.366300</td>\n",
       "      <td>0.535049</td>\n",
       "      <td>0.286214</td>\n",
       "      <td>0.330372</td>\n",
       "      <td>0.306712</td>\n",
       "      <td>0.857017</td>\n",
       "    </tr>\n",
       "    <tr>\n",
       "      <td>28</td>\n",
       "      <td>0.328300</td>\n",
       "      <td>0.538858</td>\n",
       "      <td>0.288811</td>\n",
       "      <td>0.333603</td>\n",
       "      <td>0.309595</td>\n",
       "      <td>0.857808</td>\n",
       "    </tr>\n",
       "  </tbody>\n",
       "</table><p>"
      ],
      "text/plain": [
       "<IPython.core.display.HTML object>"
      ]
     },
     "metadata": {},
     "output_type": "display_data"
    },
    {
     "name": "stderr",
     "output_type": "stream",
     "text": [
      "c:\\users\\mcha0133\\desktop\\everything about bert training\\bert-ft-fp\\lib\\site-packages\\seqeval\\metrics\\v1.py:57: UndefinedMetricWarning: Precision and F-score are ill-defined and being set to 0.0 in labels with no predicted samples. Use `zero_division` parameter to control this behavior.\n",
      "  _warn_prf(average, modifier, msg_start, len(result))\n",
      "c:\\users\\mcha0133\\desktop\\everything about bert training\\bert-ft-fp\\lib\\site-packages\\torch\\utils\\checkpoint.py:429: UserWarning: torch.utils.checkpoint: please pass in use_reentrant=True or use_reentrant=False explicitly. The default value of use_reentrant will be updated to be False in the future. To maintain current behavior, pass use_reentrant=True. It is recommended that you use use_reentrant=False. Refer to docs for more details on the differences between the two variants.\n",
      "  warnings.warn(\n",
      "c:\\users\\mcha0133\\desktop\\everything about bert training\\bert-ft-fp\\lib\\site-packages\\seqeval\\metrics\\v1.py:57: UndefinedMetricWarning: Precision and F-score are ill-defined and being set to 0.0 in labels with no predicted samples. Use `zero_division` parameter to control this behavior.\n",
      "  _warn_prf(average, modifier, msg_start, len(result))\n",
      "c:\\users\\mcha0133\\desktop\\everything about bert training\\bert-ft-fp\\lib\\site-packages\\torch\\utils\\checkpoint.py:429: UserWarning: torch.utils.checkpoint: please pass in use_reentrant=True or use_reentrant=False explicitly. The default value of use_reentrant will be updated to be False in the future. To maintain current behavior, pass use_reentrant=True. It is recommended that you use use_reentrant=False. Refer to docs for more details on the differences between the two variants.\n",
      "  warnings.warn(\n",
      "c:\\users\\mcha0133\\desktop\\everything about bert training\\bert-ft-fp\\lib\\site-packages\\seqeval\\metrics\\v1.py:57: UndefinedMetricWarning: Precision and F-score are ill-defined and being set to 0.0 in labels with no predicted samples. Use `zero_division` parameter to control this behavior.\n",
      "  _warn_prf(average, modifier, msg_start, len(result))\n",
      "c:\\users\\mcha0133\\desktop\\everything about bert training\\bert-ft-fp\\lib\\site-packages\\torch\\utils\\checkpoint.py:429: UserWarning: torch.utils.checkpoint: please pass in use_reentrant=True or use_reentrant=False explicitly. The default value of use_reentrant will be updated to be False in the future. To maintain current behavior, pass use_reentrant=True. It is recommended that you use use_reentrant=False. Refer to docs for more details on the differences between the two variants.\n",
      "  warnings.warn(\n",
      "c:\\users\\mcha0133\\desktop\\everything about bert training\\bert-ft-fp\\lib\\site-packages\\seqeval\\metrics\\v1.py:57: UndefinedMetricWarning: Precision and F-score are ill-defined and being set to 0.0 in labels with no predicted samples. Use `zero_division` parameter to control this behavior.\n",
      "  _warn_prf(average, modifier, msg_start, len(result))\n",
      "c:\\users\\mcha0133\\desktop\\everything about bert training\\bert-ft-fp\\lib\\site-packages\\torch\\utils\\checkpoint.py:429: UserWarning: torch.utils.checkpoint: please pass in use_reentrant=True or use_reentrant=False explicitly. The default value of use_reentrant will be updated to be False in the future. To maintain current behavior, pass use_reentrant=True. It is recommended that you use use_reentrant=False. Refer to docs for more details on the differences between the two variants.\n",
      "  warnings.warn(\n",
      "c:\\users\\mcha0133\\desktop\\everything about bert training\\bert-ft-fp\\lib\\site-packages\\seqeval\\metrics\\v1.py:57: UndefinedMetricWarning: Precision and F-score are ill-defined and being set to 0.0 in labels with no predicted samples. Use `zero_division` parameter to control this behavior.\n",
      "  _warn_prf(average, modifier, msg_start, len(result))\n",
      "c:\\users\\mcha0133\\desktop\\everything about bert training\\bert-ft-fp\\lib\\site-packages\\torch\\utils\\checkpoint.py:429: UserWarning: torch.utils.checkpoint: please pass in use_reentrant=True or use_reentrant=False explicitly. The default value of use_reentrant will be updated to be False in the future. To maintain current behavior, pass use_reentrant=True. It is recommended that you use use_reentrant=False. Refer to docs for more details on the differences between the two variants.\n",
      "  warnings.warn(\n",
      "c:\\users\\mcha0133\\desktop\\everything about bert training\\bert-ft-fp\\lib\\site-packages\\seqeval\\metrics\\v1.py:57: UndefinedMetricWarning: Precision and F-score are ill-defined and being set to 0.0 in labels with no predicted samples. Use `zero_division` parameter to control this behavior.\n",
      "  _warn_prf(average, modifier, msg_start, len(result))\n",
      "c:\\users\\mcha0133\\desktop\\everything about bert training\\bert-ft-fp\\lib\\site-packages\\torch\\utils\\checkpoint.py:429: UserWarning: torch.utils.checkpoint: please pass in use_reentrant=True or use_reentrant=False explicitly. The default value of use_reentrant will be updated to be False in the future. To maintain current behavior, pass use_reentrant=True. It is recommended that you use use_reentrant=False. Refer to docs for more details on the differences between the two variants.\n",
      "  warnings.warn(\n",
      "c:\\users\\mcha0133\\desktop\\everything about bert training\\bert-ft-fp\\lib\\site-packages\\seqeval\\metrics\\v1.py:57: UndefinedMetricWarning: Precision and F-score are ill-defined and being set to 0.0 in labels with no predicted samples. Use `zero_division` parameter to control this behavior.\n",
      "  _warn_prf(average, modifier, msg_start, len(result))\n",
      "c:\\users\\mcha0133\\desktop\\everything about bert training\\bert-ft-fp\\lib\\site-packages\\torch\\utils\\checkpoint.py:429: UserWarning: torch.utils.checkpoint: please pass in use_reentrant=True or use_reentrant=False explicitly. The default value of use_reentrant will be updated to be False in the future. To maintain current behavior, pass use_reentrant=True. It is recommended that you use use_reentrant=False. Refer to docs for more details on the differences between the two variants.\n",
      "  warnings.warn(\n",
      "c:\\users\\mcha0133\\desktop\\everything about bert training\\bert-ft-fp\\lib\\site-packages\\seqeval\\metrics\\v1.py:57: UndefinedMetricWarning: Precision and F-score are ill-defined and being set to 0.0 in labels with no predicted samples. Use `zero_division` parameter to control this behavior.\n",
      "  _warn_prf(average, modifier, msg_start, len(result))\n",
      "c:\\users\\mcha0133\\desktop\\everything about bert training\\bert-ft-fp\\lib\\site-packages\\torch\\utils\\checkpoint.py:429: UserWarning: torch.utils.checkpoint: please pass in use_reentrant=True or use_reentrant=False explicitly. The default value of use_reentrant will be updated to be False in the future. To maintain current behavior, pass use_reentrant=True. It is recommended that you use use_reentrant=False. Refer to docs for more details on the differences between the two variants.\n",
      "  warnings.warn(\n",
      "c:\\users\\mcha0133\\desktop\\everything about bert training\\bert-ft-fp\\lib\\site-packages\\seqeval\\metrics\\v1.py:57: UndefinedMetricWarning: Precision and F-score are ill-defined and being set to 0.0 in labels with no predicted samples. Use `zero_division` parameter to control this behavior.\n",
      "  _warn_prf(average, modifier, msg_start, len(result))\n",
      "c:\\users\\mcha0133\\desktop\\everything about bert training\\bert-ft-fp\\lib\\site-packages\\torch\\utils\\checkpoint.py:429: UserWarning: torch.utils.checkpoint: please pass in use_reentrant=True or use_reentrant=False explicitly. The default value of use_reentrant will be updated to be False in the future. To maintain current behavior, pass use_reentrant=True. It is recommended that you use use_reentrant=False. Refer to docs for more details on the differences between the two variants.\n",
      "  warnings.warn(\n",
      "c:\\users\\mcha0133\\desktop\\everything about bert training\\bert-ft-fp\\lib\\site-packages\\seqeval\\metrics\\v1.py:57: UndefinedMetricWarning: Precision and F-score are ill-defined and being set to 0.0 in labels with no predicted samples. Use `zero_division` parameter to control this behavior.\n",
      "  _warn_prf(average, modifier, msg_start, len(result))\n",
      "c:\\users\\mcha0133\\desktop\\everything about bert training\\bert-ft-fp\\lib\\site-packages\\torch\\utils\\checkpoint.py:429: UserWarning: torch.utils.checkpoint: please pass in use_reentrant=True or use_reentrant=False explicitly. The default value of use_reentrant will be updated to be False in the future. To maintain current behavior, pass use_reentrant=True. It is recommended that you use use_reentrant=False. Refer to docs for more details on the differences between the two variants.\n",
      "  warnings.warn(\n",
      "c:\\users\\mcha0133\\desktop\\everything about bert training\\bert-ft-fp\\lib\\site-packages\\seqeval\\metrics\\v1.py:57: UndefinedMetricWarning: Precision and F-score are ill-defined and being set to 0.0 in labels with no predicted samples. Use `zero_division` parameter to control this behavior.\n",
      "  _warn_prf(average, modifier, msg_start, len(result))\n",
      "c:\\users\\mcha0133\\desktop\\everything about bert training\\bert-ft-fp\\lib\\site-packages\\torch\\utils\\checkpoint.py:429: UserWarning: torch.utils.checkpoint: please pass in use_reentrant=True or use_reentrant=False explicitly. The default value of use_reentrant will be updated to be False in the future. To maintain current behavior, pass use_reentrant=True. It is recommended that you use use_reentrant=False. Refer to docs for more details on the differences between the two variants.\n",
      "  warnings.warn(\n",
      "c:\\users\\mcha0133\\desktop\\everything about bert training\\bert-ft-fp\\lib\\site-packages\\seqeval\\metrics\\v1.py:57: UndefinedMetricWarning: Precision and F-score are ill-defined and being set to 0.0 in labels with no predicted samples. Use `zero_division` parameter to control this behavior.\n",
      "  _warn_prf(average, modifier, msg_start, len(result))\n",
      "c:\\users\\mcha0133\\desktop\\everything about bert training\\bert-ft-fp\\lib\\site-packages\\torch\\utils\\checkpoint.py:429: UserWarning: torch.utils.checkpoint: please pass in use_reentrant=True or use_reentrant=False explicitly. The default value of use_reentrant will be updated to be False in the future. To maintain current behavior, pass use_reentrant=True. It is recommended that you use use_reentrant=False. Refer to docs for more details on the differences between the two variants.\n",
      "  warnings.warn(\n",
      "c:\\users\\mcha0133\\desktop\\everything about bert training\\bert-ft-fp\\lib\\site-packages\\seqeval\\metrics\\v1.py:57: UndefinedMetricWarning: Precision and F-score are ill-defined and being set to 0.0 in labels with no predicted samples. Use `zero_division` parameter to control this behavior.\n",
      "  _warn_prf(average, modifier, msg_start, len(result))\n",
      "c:\\users\\mcha0133\\desktop\\everything about bert training\\bert-ft-fp\\lib\\site-packages\\torch\\utils\\checkpoint.py:429: UserWarning: torch.utils.checkpoint: please pass in use_reentrant=True or use_reentrant=False explicitly. The default value of use_reentrant will be updated to be False in the future. To maintain current behavior, pass use_reentrant=True. It is recommended that you use use_reentrant=False. Refer to docs for more details on the differences between the two variants.\n",
      "  warnings.warn(\n",
      "c:\\users\\mcha0133\\desktop\\everything about bert training\\bert-ft-fp\\lib\\site-packages\\seqeval\\metrics\\v1.py:57: UndefinedMetricWarning: Precision and F-score are ill-defined and being set to 0.0 in labels with no predicted samples. Use `zero_division` parameter to control this behavior.\n",
      "  _warn_prf(average, modifier, msg_start, len(result))\n",
      "c:\\users\\mcha0133\\desktop\\everything about bert training\\bert-ft-fp\\lib\\site-packages\\torch\\utils\\checkpoint.py:429: UserWarning: torch.utils.checkpoint: please pass in use_reentrant=True or use_reentrant=False explicitly. The default value of use_reentrant will be updated to be False in the future. To maintain current behavior, pass use_reentrant=True. It is recommended that you use use_reentrant=False. Refer to docs for more details on the differences between the two variants.\n",
      "  warnings.warn(\n",
      "c:\\users\\mcha0133\\desktop\\everything about bert training\\bert-ft-fp\\lib\\site-packages\\torch\\utils\\checkpoint.py:429: UserWarning: torch.utils.checkpoint: please pass in use_reentrant=True or use_reentrant=False explicitly. The default value of use_reentrant will be updated to be False in the future. To maintain current behavior, pass use_reentrant=True. It is recommended that you use use_reentrant=False. Refer to docs for more details on the differences between the two variants.\n",
      "  warnings.warn(\n",
      "c:\\users\\mcha0133\\desktop\\everything about bert training\\bert-ft-fp\\lib\\site-packages\\torch\\utils\\checkpoint.py:429: UserWarning: torch.utils.checkpoint: please pass in use_reentrant=True or use_reentrant=False explicitly. The default value of use_reentrant will be updated to be False in the future. To maintain current behavior, pass use_reentrant=True. It is recommended that you use use_reentrant=False. Refer to docs for more details on the differences between the two variants.\n",
      "  warnings.warn(\n",
      "c:\\users\\mcha0133\\desktop\\everything about bert training\\bert-ft-fp\\lib\\site-packages\\torch\\utils\\checkpoint.py:429: UserWarning: torch.utils.checkpoint: please pass in use_reentrant=True or use_reentrant=False explicitly. The default value of use_reentrant will be updated to be False in the future. To maintain current behavior, pass use_reentrant=True. It is recommended that you use use_reentrant=False. Refer to docs for more details on the differences between the two variants.\n",
      "  warnings.warn(\n",
      "c:\\users\\mcha0133\\desktop\\everything about bert training\\bert-ft-fp\\lib\\site-packages\\torch\\utils\\checkpoint.py:429: UserWarning: torch.utils.checkpoint: please pass in use_reentrant=True or use_reentrant=False explicitly. The default value of use_reentrant will be updated to be False in the future. To maintain current behavior, pass use_reentrant=True. It is recommended that you use use_reentrant=False. Refer to docs for more details on the differences between the two variants.\n",
      "  warnings.warn(\n",
      "c:\\users\\mcha0133\\desktop\\everything about bert training\\bert-ft-fp\\lib\\site-packages\\torch\\utils\\checkpoint.py:429: UserWarning: torch.utils.checkpoint: please pass in use_reentrant=True or use_reentrant=False explicitly. The default value of use_reentrant will be updated to be False in the future. To maintain current behavior, pass use_reentrant=True. It is recommended that you use use_reentrant=False. Refer to docs for more details on the differences between the two variants.\n",
      "  warnings.warn(\n",
      "c:\\users\\mcha0133\\desktop\\everything about bert training\\bert-ft-fp\\lib\\site-packages\\torch\\utils\\checkpoint.py:429: UserWarning: torch.utils.checkpoint: please pass in use_reentrant=True or use_reentrant=False explicitly. The default value of use_reentrant will be updated to be False in the future. To maintain current behavior, pass use_reentrant=True. It is recommended that you use use_reentrant=False. Refer to docs for more details on the differences between the two variants.\n",
      "  warnings.warn(\n",
      "c:\\users\\mcha0133\\desktop\\everything about bert training\\bert-ft-fp\\lib\\site-packages\\torch\\utils\\checkpoint.py:429: UserWarning: torch.utils.checkpoint: please pass in use_reentrant=True or use_reentrant=False explicitly. The default value of use_reentrant will be updated to be False in the future. To maintain current behavior, pass use_reentrant=True. It is recommended that you use use_reentrant=False. Refer to docs for more details on the differences between the two variants.\n",
      "  warnings.warn(\n",
      "c:\\users\\mcha0133\\desktop\\everything about bert training\\bert-ft-fp\\lib\\site-packages\\torch\\utils\\checkpoint.py:429: UserWarning: torch.utils.checkpoint: please pass in use_reentrant=True or use_reentrant=False explicitly. The default value of use_reentrant will be updated to be False in the future. To maintain current behavior, pass use_reentrant=True. It is recommended that you use use_reentrant=False. Refer to docs for more details on the differences between the two variants.\n",
      "  warnings.warn(\n",
      "c:\\users\\mcha0133\\desktop\\everything about bert training\\bert-ft-fp\\lib\\site-packages\\torch\\utils\\checkpoint.py:429: UserWarning: torch.utils.checkpoint: please pass in use_reentrant=True or use_reentrant=False explicitly. The default value of use_reentrant will be updated to be False in the future. To maintain current behavior, pass use_reentrant=True. It is recommended that you use use_reentrant=False. Refer to docs for more details on the differences between the two variants.\n",
      "  warnings.warn(\n",
      "c:\\users\\mcha0133\\desktop\\everything about bert training\\bert-ft-fp\\lib\\site-packages\\torch\\utils\\checkpoint.py:429: UserWarning: torch.utils.checkpoint: please pass in use_reentrant=True or use_reentrant=False explicitly. The default value of use_reentrant will be updated to be False in the future. To maintain current behavior, pass use_reentrant=True. It is recommended that you use use_reentrant=False. Refer to docs for more details on the differences between the two variants.\n",
      "  warnings.warn(\n",
      "c:\\users\\mcha0133\\desktop\\everything about bert training\\bert-ft-fp\\lib\\site-packages\\torch\\utils\\checkpoint.py:429: UserWarning: torch.utils.checkpoint: please pass in use_reentrant=True or use_reentrant=False explicitly. The default value of use_reentrant will be updated to be False in the future. To maintain current behavior, pass use_reentrant=True. It is recommended that you use use_reentrant=False. Refer to docs for more details on the differences between the two variants.\n",
      "  warnings.warn(\n",
      "c:\\users\\mcha0133\\desktop\\everything about bert training\\bert-ft-fp\\lib\\site-packages\\torch\\utils\\checkpoint.py:429: UserWarning: torch.utils.checkpoint: please pass in use_reentrant=True or use_reentrant=False explicitly. The default value of use_reentrant will be updated to be False in the future. To maintain current behavior, pass use_reentrant=True. It is recommended that you use use_reentrant=False. Refer to docs for more details on the differences between the two variants.\n",
      "  warnings.warn(\n",
      "c:\\users\\mcha0133\\desktop\\everything about bert training\\bert-ft-fp\\lib\\site-packages\\torch\\utils\\checkpoint.py:429: UserWarning: torch.utils.checkpoint: please pass in use_reentrant=True or use_reentrant=False explicitly. The default value of use_reentrant will be updated to be False in the future. To maintain current behavior, pass use_reentrant=True. It is recommended that you use use_reentrant=False. Refer to docs for more details on the differences between the two variants.\n",
      "  warnings.warn(\n",
      "c:\\users\\mcha0133\\desktop\\everything about bert training\\bert-ft-fp\\lib\\site-packages\\torch\\utils\\checkpoint.py:429: UserWarning: torch.utils.checkpoint: please pass in use_reentrant=True or use_reentrant=False explicitly. The default value of use_reentrant will be updated to be False in the future. To maintain current behavior, pass use_reentrant=True. It is recommended that you use use_reentrant=False. Refer to docs for more details on the differences between the two variants.\n",
      "  warnings.warn(\n"
     ]
    },
    {
     "name": "stdout",
     "output_type": "stream",
     "text": [
      "CPU times: total: 1min 55s\n",
      "Wall time: 1min 59s\n"
     ]
    },
    {
     "data": {
      "text/plain": [
       "TrainOutput(global_step=270, training_loss=0.5371108854258502, metrics={'train_runtime': 116.9107, 'train_samples_per_second': 38.491, 'train_steps_per_second': 2.309, 'total_flos': 548561825650020.0, 'train_loss': 0.5371108854258502, 'epoch': 28.42})"
      ]
     },
     "execution_count": 24,
     "metadata": {},
     "output_type": "execute_result"
    }
   ],
   "source": [
    "%%time\n",
    "\n",
    "trainer.train()"
   ]
  },
  {
   "cell_type": "markdown",
   "id": "e155c68a-79ab-438c-96c2-7f4dd556cbc1",
   "metadata": {},
   "source": [
    "# Evaluation"
   ]
  },
  {
   "cell_type": "code",
   "execution_count": 28,
   "id": "24241201-e31a-4962-8e4b-161602e1bef9",
   "metadata": {},
   "outputs": [
    {
     "data": {
      "text/html": [],
      "text/plain": [
       "<IPython.core.display.HTML object>"
      ]
     },
     "metadata": {},
     "output_type": "display_data"
    },
    {
     "data": {
      "text/plain": [
       "{'eval_loss': 0.5358961224555969,\n",
       " 'eval_precision': 0.2938322938322938,\n",
       " 'eval_recall': 0.34248788368336025,\n",
       " 'eval_f1': 0.3162998881014547,\n",
       " 'eval_accuracy': 0.8571052169330757,\n",
       " 'eval_runtime': 0.5691,\n",
       " 'eval_samples_per_second': 52.713,\n",
       " 'eval_steps_per_second': 14.057,\n",
       " 'epoch': 28.42}"
      ]
     },
     "execution_count": 28,
     "metadata": {},
     "output_type": "execute_result"
    }
   ],
   "source": [
    "trainer.evaluate()"
   ]
  },
  {
   "cell_type": "code",
   "execution_count": 29,
   "id": "3aebd102-26df-4709-8136-6af63bbef4de",
   "metadata": {},
   "outputs": [
    {
     "data": {
      "text/plain": [
       "{'EVENT': {'precision': 0.1346153846153846,\n",
       "  'recall': 0.125,\n",
       "  'f1': 0.12962962962962965,\n",
       "  'number': 56},\n",
       " 'FACILITY': {'precision': 0.0, 'recall': 0.0, 'f1': 0.0, 'number': 36},\n",
       " 'LOCATION': {'precision': 0.38823529411764707,\n",
       "  'recall': 0.6387096774193548,\n",
       "  'f1': 0.4829268292682927,\n",
       "  'number': 310},\n",
       " 'NORP': {'precision': 0.21428571428571427,\n",
       "  'recall': 0.25,\n",
       "  'f1': 0.23076923076923075,\n",
       "  'number': 12},\n",
       " 'ORGANIZATION': {'precision': 0.3225806451612903,\n",
       "  'recall': 0.2763385146804836,\n",
       "  'f1': 0.29767441860465116,\n",
       "  'number': 579},\n",
       " 'PERSON': {'precision': 0.13291139240506328,\n",
       "  'recall': 0.22702702702702704,\n",
       "  'f1': 0.16766467065868262,\n",
       "  'number': 185},\n",
       " 'PRODUCT': {'precision': 0.0, 'recall': 0.0, 'f1': 0.0, 'number': 10},\n",
       " 'ROLE': {'precision': 0.4482758620689655,\n",
       "  'recall': 0.2826086956521739,\n",
       "  'f1': 0.3466666666666666,\n",
       "  'number': 46},\n",
       " 'TITLE': {'precision': 0.14285714285714285,\n",
       "  'recall': 0.25,\n",
       "  'f1': 0.18181818181818182,\n",
       "  'number': 4},\n",
       " 'overall_precision': 0.2938322938322938,\n",
       " 'overall_recall': 0.34248788368336025,\n",
       " 'overall_f1': 0.3162998881014547,\n",
       " 'overall_accuracy': 0.8571052169330757}"
      ]
     },
     "execution_count": 29,
     "metadata": {},
     "output_type": "execute_result"
    }
   ],
   "source": [
    "predictions, labels, _ = trainer.predict(valid_set)\n",
    "predictions = np.argmax(predictions, axis=2)\n",
    "\n",
    "label2id_str = list(label2id.keys())\n",
    "# Remove ignored index (special tokens)\n",
    "true_predictions = [\n",
    "    [label2id_str[p] for (p, l) in zip(prediction, label) if l != -100]\n",
    "    for prediction, label in zip(predictions, labels)\n",
    "]\n",
    "true_labels = [\n",
    "    [label2id_str[l] for (p, l) in zip(prediction, label) if l != -100]\n",
    "    for prediction, label in zip(predictions, labels)\n",
    "]\n",
    "\n",
    "results = metric.compute(predictions=true_predictions, references=true_labels)\n",
    "results"
   ]
  },
  {
   "cell_type": "code",
   "execution_count": 30,
   "id": "22ac8464-3687-481f-a205-d580b74eb80b",
   "metadata": {},
   "outputs": [
    {
     "data": {
      "text/plain": [
       "('./final_tokenizer\\\\tokenizer_config.json',\n",
       " './final_tokenizer\\\\special_tokens_map.json',\n",
       " './final_tokenizer\\\\vocab.txt',\n",
       " './final_tokenizer\\\\added_tokens.json',\n",
       " './final_tokenizer\\\\tokenizer.json')"
      ]
     },
     "execution_count": 30,
     "metadata": {},
     "output_type": "execute_result"
    }
   ],
   "source": [
    "os.makedirs(f\"./final_model\", exist_ok=True)\n",
    "final_model = f\"./final_model\"\n",
    "os.makedirs(final_model, exist_ok=True)\n",
    "\n",
    "trainer.save_model(final_model)\n",
    "\n",
    "os.makedirs(f\"./final_tokenizer\", exist_ok=True)\n",
    "final_tokenizer = f\"./final_tokenizer\"\n",
    "os.makedirs(final_tokenizer, exist_ok=True)\n",
    "tokenizer.save_pretrained(final_tokenizer)"
   ]
  },
  {
   "cell_type": "code",
   "execution_count": null,
   "id": "71261209-d474-42ff-a7b5-ca164f7916a6",
   "metadata": {},
   "outputs": [],
   "source": []
  }
 ],
 "metadata": {
  "kernelspec": {
   "display_name": "bert-ft-fp",
   "language": "python",
   "name": "bert-ft-fp"
  },
  "language_info": {
   "codemirror_mode": {
    "name": "ipython",
    "version": 3
   },
   "file_extension": ".py",
   "mimetype": "text/x-python",
   "name": "python",
   "nbconvert_exporter": "python",
   "pygments_lexer": "ipython3",
   "version": "3.8.10"
  }
 },
 "nbformat": 4,
 "nbformat_minor": 5
}
