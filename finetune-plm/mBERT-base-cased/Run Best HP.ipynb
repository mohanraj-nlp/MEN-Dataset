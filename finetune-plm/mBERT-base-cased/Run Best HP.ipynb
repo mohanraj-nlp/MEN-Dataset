{
 "cells": [
  {
   "cell_type": "markdown",
   "id": "8885c288",
   "metadata": {},
   "source": [
    "# Import Library"
   ]
  },
  {
   "cell_type": "code",
   "execution_count": 1,
   "id": "2bfd5f7d",
   "metadata": {},
   "outputs": [
    {
     "name": "stderr",
     "output_type": "stream",
     "text": [
      "c:\\users\\mcha0133\\desktop\\everything about bert training\\bert-ft-fp\\lib\\site-packages\\tqdm\\auto.py:21: TqdmWarning: IProgress not found. Please update jupyter and ipywidgets. See https://ipywidgets.readthedocs.io/en/stable/user_install.html\n",
      "  from .autonotebook import tqdm as notebook_tqdm\n"
     ]
    }
   ],
   "source": [
    "import os\n",
    "import json\n",
    "import torch\n",
    "import numpy as np\n",
    "import pandas as pd\n",
    "from nltk.tokenize import word_tokenize\n",
    "from datasets import load_metric, load_dataset, Dataset\n",
    "from transformers import BertTokenizerFast, BertForTokenClassification, TrainingArguments, Trainer, DataCollatorForTokenClassification"
   ]
  },
  {
   "cell_type": "code",
   "execution_count": 2,
   "id": "6a6374ae-3498-442a-b18d-f991e794f7d4",
   "metadata": {},
   "outputs": [],
   "source": [
    "DRIVER_LETTER = os.path.splitdrive(os.getcwd())[0]"
   ]
  },
  {
   "cell_type": "markdown",
   "id": "fe64494e-6c41-4531-9b81-b67f2442d408",
   "metadata": {},
   "source": [
    "## Configurations"
   ]
  },
  {
   "cell_type": "code",
   "execution_count": 3,
   "id": "d27436f8-24cf-461e-a52a-14fd2f781cb6",
   "metadata": {},
   "outputs": [],
   "source": [
    "FURTHER_PRETRAINED = \"bert-base-multilingual-cased\"\n",
    "logging_dir = \"./logs_final\"\n",
    "output_dir = \"./pretrained_bert_final\""
   ]
  },
  {
   "cell_type": "code",
   "execution_count": 4,
   "id": "de729755-e1f7-4081-a446-41636e03b2ca",
   "metadata": {},
   "outputs": [
    {
     "name": "stdout",
     "output_type": "stream",
     "text": [
      "{'learning_rate': 5e-05, 'num_train_epochs': 30, 'per_device_train_batch_size': 4, 'weight_decay': 0.01, 'assignments': {}, 'metric': 'eval/loss'}\n"
     ]
    }
   ],
   "source": [
    "# Define hyperparameter grid\n",
    "with open(\"best-parameter.json\",\"r\") as f:\n",
    "    hyperparameters = json.load(f)\n",
    "print(hyperparameters)"
   ]
  },
  {
   "cell_type": "code",
   "execution_count": 7,
   "id": "e43d399b",
   "metadata": {},
   "outputs": [],
   "source": [
    "tokenizer = BertTokenizerFast.from_pretrained(\"bert-base-multilingual-cased\")"
   ]
  },
  {
   "cell_type": "code",
   "execution_count": 8,
   "id": "df0eeadc-8036-46a6-bf89-76532f29fb8b",
   "metadata": {},
   "outputs": [
    {
     "name": "stdout",
     "output_type": "stream",
     "text": [
      "Using device: cuda\n",
      "\n",
      "NVIDIA GeForce RTX 2080\n",
      "Memory Usage:\n",
      "Allocated: 0.0 GB\n",
      "Cached:    0.0 GB\n"
     ]
    }
   ],
   "source": [
    "torch.cuda.empty_cache()\n",
    "\n",
    "device = torch.device('cuda' if torch.cuda.is_available() else 'cpu')\n",
    "torch.cuda.get_device_name(0)\n",
    "print('Using device:', device)\n",
    "print()\n",
    "\n",
    "#Additional Info when using cuda\n",
    "if device.type == 'cuda':\n",
    "    print(torch.cuda.get_device_name(0))\n",
    "    print('Memory Usage:')\n",
    "    print('Allocated:', round(torch.cuda.memory_allocated(0)/1024**3,1), 'GB')\n",
    "    print('Cached:   ', round(torch.cuda.memory_reserved(0)/1024**3,1), 'GB')"
   ]
  },
  {
   "cell_type": "code",
   "execution_count": 9,
   "id": "9cce0faf",
   "metadata": {},
   "outputs": [
    {
     "name": "stdout",
     "output_type": "stream",
     "text": [
      "cuda\n"
     ]
    }
   ],
   "source": [
    "device = 'cuda' if torch.cuda.is_available() else 'cpu'\n",
    "print(device)"
   ]
  },
  {
   "cell_type": "markdown",
   "id": "138952a8",
   "metadata": {},
   "source": [
    "# Import Dataset"
   ]
  },
  {
   "cell_type": "code",
   "execution_count": 11,
   "id": "7e7036ba-1e2d-4263-a1f7-a51dad749cf4",
   "metadata": {},
   "outputs": [
    {
     "name": "stdout",
     "output_type": "stream",
     "text": [
      "(150, 3)\n",
      "(20, 3)\n",
      "(30, 3)\n"
     ]
    }
   ],
   "source": [
    "train = pd.read_json(\"./bio-tag-dataset/train_bio.json\")\n",
    "train = train[[\"text\",\"entities\"]]\n",
    "train[\"token\"] = train[\"text\"].apply(lambda x: word_tokenize(x))\n",
    "\n",
    "test = pd.read_json(\"./bio-tag-dataset/test_bio.json\")\n",
    "test = test[[\"text\",\"entities\"]]\n",
    "test[\"token\"] = test[\"text\"].apply(lambda x: word_tokenize(x))\n",
    "\n",
    "valid = pd.read_json(\"./bio-tag-dataset/validation_bio.json\")\n",
    "valid = valid[[\"text\",\"entities\"]]\n",
    "valid[\"token\"] = valid[\"text\"].apply(lambda x: word_tokenize(x))\n",
    "\n",
    "print(train.shape)\n",
    "print(test.shape)\n",
    "print(valid.shape)"
   ]
  },
  {
   "cell_type": "markdown",
   "id": "e4b4e505",
   "metadata": {},
   "source": [
    "# Format BIO Dataset - Processing"
   ]
  },
  {
   "cell_type": "code",
   "execution_count": 12,
   "id": "cecabd96",
   "metadata": {},
   "outputs": [
    {
     "name": "stdout",
     "output_type": "stream",
     "text": [
      "['I-PRODUCT', 'I-EVENT', 'O', 'I-PERSON', 'B-TITLE', 'B-EVENT', 'B-PRODUCT', 'B-ORGANIZATION', 'B-FACILITY', 'I-ROLE', 'B-LAW', 'B-LOCATION', 'I-ORGANIZATION', 'B-ROLE', 'I-FACILITY', 'I-WORK_OF_ART', 'I-LOCATION', 'B-NORP', 'I-TITLE', 'I-NORP', 'I-LAW', 'B-WORK_OF_ART', 'B-PERSON']\n",
      "{'B-EVENT': 0, 'B-FACILITY': 1, 'B-LAW': 2, 'B-LOCATION': 3, 'B-NORP': 4, 'B-ORGANIZATION': 5, 'B-PERSON': 6, 'B-PRODUCT': 7, 'B-ROLE': 8, 'B-TITLE': 9, 'B-WORK_OF_ART': 10, 'I-EVENT': 11, 'I-FACILITY': 12, 'I-LAW': 13, 'I-LOCATION': 14, 'I-NORP': 15, 'I-ORGANIZATION': 16, 'I-PERSON': 17, 'I-PRODUCT': 18, 'I-ROLE': 19, 'I-TITLE': 20, 'I-WORK_OF_ART': 21, 'O': 22}\n"
     ]
    }
   ],
   "source": [
    "# Split labels based on whitespace and turn them into a list\n",
    "labels = [i for i in train['entities'].values.tolist()]\n",
    "\n",
    "# Check how many labels are there in the dataset\n",
    "unique_labels = set()\n",
    "\n",
    "for lb in labels:\n",
    "    [unique_labels.add(i) for i in lb if i not in unique_labels]\n",
    "\n",
    "unique_labels = list(unique_labels)\n",
    "print(unique_labels)\n",
    "\n",
    "# Map each label into its id representation and vice versa\n",
    "label2id = {k: v for v, k in enumerate(sorted(unique_labels))}\n",
    "id2label  = {v: k for v, k in enumerate(sorted(unique_labels))}\n",
    "print(label2id)"
   ]
  },
  {
   "cell_type": "code",
   "execution_count": 13,
   "id": "9a06442d",
   "metadata": {},
   "outputs": [],
   "source": [
    "train['entities'] = train['entities'].apply(lambda entities: [label2id[ent] for ent in entities])\n",
    "test['entities'] = test['entities'].apply(lambda entities: [label2id[ent] for ent in entities])\n",
    "valid['entities'] = valid['entities'].apply(lambda entities: [label2id[ent] for ent in entities])"
   ]
  },
  {
   "cell_type": "code",
   "execution_count": 14,
   "id": "3d9c590f",
   "metadata": {},
   "outputs": [],
   "source": [
    "train_dataset = Dataset.from_pandas(train)\n",
    "test_dataset = Dataset.from_pandas(test)\n",
    "valid_dataset = Dataset.from_pandas(valid)"
   ]
  },
  {
   "cell_type": "markdown",
   "id": "20757074",
   "metadata": {},
   "source": [
    "# Tokenize Dataset"
   ]
  },
  {
   "cell_type": "code",
   "execution_count": 15,
   "id": "68272d42",
   "metadata": {},
   "outputs": [],
   "source": [
    "label_all_tokens = True"
   ]
  },
  {
   "cell_type": "code",
   "execution_count": 16,
   "id": "b27bd599",
   "metadata": {},
   "outputs": [],
   "source": [
    "def tokenize_and_align_labels(examples):\n",
    "    tokenized_inputs = tokenizer(examples[\"token\"], truncation=True, is_split_into_words=True)\n",
    "\n",
    "    labels = []\n",
    "    for i, label in enumerate(examples[\"entities\"]):\n",
    "        word_ids = tokenized_inputs.word_ids(batch_index=i)\n",
    "        previous_word_idx = None\n",
    "        label_ids = []\n",
    "        for word_idx in word_ids:\n",
    "            # Special tokens have a word id that is None. We set the label to -100 so they are automatically\n",
    "            # ignored in the loss function.\n",
    "            if word_idx is None:\n",
    "                label_ids.append(-100)\n",
    "            # We set the label for the first token of each word.\n",
    "            elif word_idx != previous_word_idx:\n",
    "                label_ids.append(label[word_idx])\n",
    "            # For the other tokens in a word, we set the label to either the current label or -100, depending on\n",
    "            # the label_all_tokens flag.\n",
    "            else:\n",
    "                label_ids.append(label[word_idx] if label_all_tokens else -100)\n",
    "            previous_word_idx = word_idx\n",
    "\n",
    "        labels.append(label_ids)\n",
    "\n",
    "    tokenized_inputs[\"labels\"] = labels\n",
    "    return tokenized_inputs"
   ]
  },
  {
   "cell_type": "code",
   "execution_count": 17,
   "id": "f72c638f-3311-4764-8af0-6f96726c2531",
   "metadata": {},
   "outputs": [
    {
     "name": "stderr",
     "output_type": "stream",
     "text": [
      "Map: 100%|███████████████████████████████████████████████████████████████████| 150/150 [00:00<00:00, 692.96 examples/s]\n",
      "Map: 100%|█████████████████████████████████████████████████████████████████████| 20/20 [00:00<00:00, 715.47 examples/s]\n",
      "Map: 100%|█████████████████████████████████████████████████████████████████████| 30/30 [00:00<00:00, 751.43 examples/s]\n"
     ]
    }
   ],
   "source": [
    "training_set = train_dataset.map(tokenize_and_align_labels, batched=True)\n",
    "testing_set = test_dataset.map(tokenize_and_align_labels, batched=True)\n",
    "valid_set = valid_dataset.map(tokenize_and_align_labels, batched=True)"
   ]
  },
  {
   "cell_type": "markdown",
   "id": "62adaf43",
   "metadata": {},
   "source": [
    "# Set an Initialize BERT Model"
   ]
  },
  {
   "cell_type": "code",
   "execution_count": 18,
   "id": "a8da2e08",
   "metadata": {},
   "outputs": [],
   "source": [
    "# model = BertForTokenClassification.from_pretrained('bert-base-cased', \n",
    "#                                                    num_labels=len(id2label),\n",
    "#                                                    id2label=id2label,\n",
    "#                                                    label2id=label2id)\n",
    "def model_init():\n",
    "    return(BertForTokenClassification.from_pretrained(\"bert-base-multilingual-cased\", num_labels=len(id2label), id2label=id2label, label2id=label2id))"
   ]
  },
  {
   "cell_type": "code",
   "execution_count": 19,
   "id": "ac71e516",
   "metadata": {},
   "outputs": [],
   "source": [
    "# Define training arguments\n",
    "training_args = TrainingArguments(\n",
    "    output_dir=output_dir,\n",
    "    num_train_epochs=hyperparameters[\"num_train_epochs\"],\n",
    "    per_device_train_batch_size=hyperparameters[\"per_device_train_batch_size\"],\n",
    "    per_device_eval_batch_size=hyperparameters[\"per_device_train_batch_size\"],\n",
    "    save_total_limit=2,\n",
    "    logging_dir=logging_dir,\n",
    "    learning_rate=hyperparameters[\"learning_rate\"],\n",
    "    weight_decay=hyperparameters['weight_decay'],\n",
    "    logging_first_step=True,\n",
    "    evaluation_strategy = \"epoch\",\n",
    "    logging_strategy=\"epoch\",\n",
    "    save_strategy=\"epoch\", \n",
    "    resume_from_checkpoint=True,\n",
    "    fp16=True,\n",
    "    gradient_accumulation_steps=4,\n",
    "    gradient_checkpointing=True,\n",
    "    optim=\"adafactor\",\n",
    "    metric_for_best_model=\"eval_f1\",\n",
    "    report_to=\"wandb\",\n",
    "    #optim=\"adamw_bnb_8bit\",\n",
    "    run_name=FURTHER_PRETRAINED_FOLDER,\n",
    "    load_best_model_at_end=True,\n",
    "    disable_tqdm=False  # Disable tqdm progress bar if desired\n",
    ")"
   ]
  },
  {
   "cell_type": "code",
   "execution_count": 20,
   "id": "9340e048-e2f5-4f50-a691-641fe7e18fb5",
   "metadata": {},
   "outputs": [],
   "source": [
    "data_collator = DataCollatorForTokenClassification(tokenizer)"
   ]
  },
  {
   "cell_type": "code",
   "execution_count": 21,
   "id": "b967a971-6e42-42d1-8d85-02f7c2cd62f6",
   "metadata": {},
   "outputs": [
    {
     "name": "stderr",
     "output_type": "stream",
     "text": [
      "C:\\Users\\mcha0133\\AppData\\Local\\Temp\\ipykernel_24056\\152412463.py:1: FutureWarning: load_metric is deprecated and will be removed in the next major version of datasets. Use 'evaluate.load' instead, from the new library 🤗 Evaluate: https://huggingface.co/docs/evaluate\n",
      "  metric = load_metric(\"seqeval\")\n"
     ]
    }
   ],
   "source": [
    "metric = load_metric(\"seqeval\")"
   ]
  },
  {
   "cell_type": "code",
   "execution_count": 22,
   "id": "9ecc0a09-e17c-4248-9ea8-5f765202bdf3",
   "metadata": {},
   "outputs": [],
   "source": [
    "def compute_metrics(p):\n",
    "    predictions, labels = p\n",
    "    predictions = np.argmax(predictions, axis=2)\n",
    "\n",
    "    label2id_str = list(label2id.keys())\n",
    "    \n",
    "    # Remove ignored index (special tokens)\n",
    "    true_predictions = [\n",
    "        [label2id_str[p] for (p, l) in zip(prediction, label) if l != -100]\n",
    "        for prediction, label in zip(predictions, labels)\n",
    "    ]\n",
    "    true_labels = [\n",
    "        [label2id_str[l] for (p, l) in zip(prediction, label) if l != -100]\n",
    "        for prediction, label in zip(predictions, labels)\n",
    "    ]\n",
    "\n",
    "    results = metric.compute(predictions=true_predictions, references=true_labels)\n",
    "    return {\n",
    "        \"precision\": results[\"overall_precision\"],\n",
    "        \"recall\": results[\"overall_recall\"],\n",
    "        \"f1\": results[\"overall_f1\"],\n",
    "        \"accuracy\": results[\"overall_accuracy\"],\n",
    "    }"
   ]
  },
  {
   "cell_type": "code",
   "execution_count": 23,
   "id": "87f5e038-4608-4732-b000-42317c18766a",
   "metadata": {},
   "outputs": [
    {
     "name": "stderr",
     "output_type": "stream",
     "text": [
      "Some weights of BertForTokenClassification were not initialized from the model checkpoint at bert-base-multilingual-cased and are newly initialized: ['classifier.weight', 'classifier.bias']\n",
      "You should probably TRAIN this model on a down-stream task to be able to use it for predictions and inference.\n"
     ]
    }
   ],
   "source": [
    "trainer = Trainer(\n",
    "    args=training_args,\n",
    "    tokenizer=tokenizer,\n",
    "    train_dataset=training_set,\n",
    "    eval_dataset=valid_set,\n",
    "    model_init=model_init,\n",
    "    data_collator=data_collator,\n",
    "    compute_metrics=compute_metrics,\n",
    ")"
   ]
  },
  {
   "cell_type": "code",
   "execution_count": 24,
   "id": "c2810061-bd6b-473b-8ea4-172e00af361c",
   "metadata": {},
   "outputs": [
    {
     "name": "stderr",
     "output_type": "stream",
     "text": [
      "Some weights of BertForTokenClassification were not initialized from the model checkpoint at bert-base-multilingual-cased and are newly initialized: ['classifier.weight', 'classifier.bias']\n",
      "You should probably TRAIN this model on a down-stream task to be able to use it for predictions and inference.\n",
      "Failed to detect the name of this notebook, you can set it manually with the WANDB_NOTEBOOK_NAME environment variable to enable code saving.\n",
      "\u001b[34m\u001b[1mwandb\u001b[0m: Currently logged in as: \u001b[33mmohanrj-nlp\u001b[0m. Use \u001b[1m`wandb login --relogin`\u001b[0m to force relogin\n"
     ]
    },
    {
     "data": {
      "text/html": [
       "Tracking run with wandb version 0.15.12"
      ],
      "text/plain": [
       "<IPython.core.display.HTML object>"
      ]
     },
     "metadata": {},
     "output_type": "display_data"
    },
    {
     "data": {
      "text/html": [
       "Run data is saved locally in <code>C:\\Users\\mcha0133\\Desktop\\Everything About BERT Training\\Fine Tune BERT NER\\mBERT-base-cased\\wandb\\run-20231007_111025-irml7ts6</code>"
      ],
      "text/plain": [
       "<IPython.core.display.HTML object>"
      ]
     },
     "metadata": {},
     "output_type": "display_data"
    },
    {
     "data": {
      "text/html": [
       "Syncing run <strong><a href='https://wandb.ai/mohanrj-nlp/huggingface/runs/irml7ts6' target=\"_blank\">bert-base-multilingual-cased</a></strong> to <a href='https://wandb.ai/mohanrj-nlp/huggingface' target=\"_blank\">Weights & Biases</a> (<a href='https://wandb.me/run' target=\"_blank\">docs</a>)<br/>"
      ],
      "text/plain": [
       "<IPython.core.display.HTML object>"
      ]
     },
     "metadata": {},
     "output_type": "display_data"
    },
    {
     "data": {
      "text/html": [
       " View project at <a href='https://wandb.ai/mohanrj-nlp/huggingface' target=\"_blank\">https://wandb.ai/mohanrj-nlp/huggingface</a>"
      ],
      "text/plain": [
       "<IPython.core.display.HTML object>"
      ]
     },
     "metadata": {},
     "output_type": "display_data"
    },
    {
     "data": {
      "text/html": [
       " View run at <a href='https://wandb.ai/mohanrj-nlp/huggingface/runs/irml7ts6' target=\"_blank\">https://wandb.ai/mohanrj-nlp/huggingface/runs/irml7ts6</a>"
      ],
      "text/plain": [
       "<IPython.core.display.HTML object>"
      ]
     },
     "metadata": {},
     "output_type": "display_data"
    },
    {
     "name": "stderr",
     "output_type": "stream",
     "text": [
      "You're using a BertTokenizerFast tokenizer. Please note that with a fast tokenizer, using the `__call__` method is faster than using a method to encode the text followed by a call to the `pad` method to get a padded encoding.\n",
      "c:\\users\\mcha0133\\desktop\\everything about bert training\\bert-ft-fp\\lib\\site-packages\\torch\\utils\\checkpoint.py:429: UserWarning: torch.utils.checkpoint: please pass in use_reentrant=True or use_reentrant=False explicitly. The default value of use_reentrant will be updated to be False in the future. To maintain current behavior, pass use_reentrant=True. It is recommended that you use use_reentrant=False. Refer to docs for more details on the differences between the two variants.\n",
      "  warnings.warn(\n"
     ]
    },
    {
     "data": {
      "text/html": [
       "\n",
       "    <div>\n",
       "      \n",
       "      <progress value='270' max='270' style='width:300px; height:20px; vertical-align: middle;'></progress>\n",
       "      [270/270 03:35, Epoch 28/30]\n",
       "    </div>\n",
       "    <table border=\"1\" class=\"dataframe\">\n",
       "  <thead>\n",
       " <tr style=\"text-align: left;\">\n",
       "      <th>Epoch</th>\n",
       "      <th>Training Loss</th>\n",
       "      <th>Validation Loss</th>\n",
       "      <th>Precision</th>\n",
       "      <th>Recall</th>\n",
       "      <th>F1</th>\n",
       "      <th>Accuracy</th>\n",
       "    </tr>\n",
       "  </thead>\n",
       "  <tbody>\n",
       "    <tr>\n",
       "      <td>0</td>\n",
       "      <td>1.535800</td>\n",
       "      <td>0.898907</td>\n",
       "      <td>0.116279</td>\n",
       "      <td>0.097765</td>\n",
       "      <td>0.106222</td>\n",
       "      <td>0.817772</td>\n",
       "    </tr>\n",
       "    <tr>\n",
       "      <td>2</td>\n",
       "      <td>0.366300</td>\n",
       "      <td>0.227793</td>\n",
       "      <td>0.495063</td>\n",
       "      <td>0.653631</td>\n",
       "      <td>0.563403</td>\n",
       "      <td>0.937261</td>\n",
       "    </tr>\n",
       "    <tr>\n",
       "      <td>4</td>\n",
       "      <td>0.215600</td>\n",
       "      <td>0.149353</td>\n",
       "      <td>0.716965</td>\n",
       "      <td>0.783054</td>\n",
       "      <td>0.748554</td>\n",
       "      <td>0.962600</td>\n",
       "    </tr>\n",
       "    <tr>\n",
       "      <td>6</td>\n",
       "      <td>0.129200</td>\n",
       "      <td>0.124871</td>\n",
       "      <td>0.831303</td>\n",
       "      <td>0.825885</td>\n",
       "      <td>0.828585</td>\n",
       "      <td>0.970236</td>\n",
       "    </tr>\n",
       "    <tr>\n",
       "      <td>8</td>\n",
       "      <td>0.089600</td>\n",
       "      <td>0.127527</td>\n",
       "      <td>0.819266</td>\n",
       "      <td>0.831471</td>\n",
       "      <td>0.825323</td>\n",
       "      <td>0.970496</td>\n",
       "    </tr>\n",
       "    <tr>\n",
       "      <td>10</td>\n",
       "      <td>0.067800</td>\n",
       "      <td>0.141160</td>\n",
       "      <td>0.753413</td>\n",
       "      <td>0.822160</td>\n",
       "      <td>0.786287</td>\n",
       "      <td>0.961211</td>\n",
       "    </tr>\n",
       "    <tr>\n",
       "      <td>12</td>\n",
       "      <td>0.048100</td>\n",
       "      <td>0.137836</td>\n",
       "      <td>0.782272</td>\n",
       "      <td>0.846369</td>\n",
       "      <td>0.813059</td>\n",
       "      <td>0.965724</td>\n",
       "    </tr>\n",
       "    <tr>\n",
       "      <td>14</td>\n",
       "      <td>0.039900</td>\n",
       "      <td>0.151513</td>\n",
       "      <td>0.799650</td>\n",
       "      <td>0.851024</td>\n",
       "      <td>0.824538</td>\n",
       "      <td>0.965550</td>\n",
       "    </tr>\n",
       "    <tr>\n",
       "      <td>16</td>\n",
       "      <td>0.031200</td>\n",
       "      <td>0.154306</td>\n",
       "      <td>0.802295</td>\n",
       "      <td>0.846369</td>\n",
       "      <td>0.823743</td>\n",
       "      <td>0.967633</td>\n",
       "    </tr>\n",
       "    <tr>\n",
       "      <td>18</td>\n",
       "      <td>0.024700</td>\n",
       "      <td>0.158052</td>\n",
       "      <td>0.797900</td>\n",
       "      <td>0.849162</td>\n",
       "      <td>0.822733</td>\n",
       "      <td>0.966505</td>\n",
       "    </tr>\n",
       "    <tr>\n",
       "      <td>20</td>\n",
       "      <td>0.019500</td>\n",
       "      <td>0.169264</td>\n",
       "      <td>0.772572</td>\n",
       "      <td>0.844507</td>\n",
       "      <td>0.806940</td>\n",
       "      <td>0.962339</td>\n",
       "    </tr>\n",
       "    <tr>\n",
       "      <td>22</td>\n",
       "      <td>0.017900</td>\n",
       "      <td>0.170982</td>\n",
       "      <td>0.771308</td>\n",
       "      <td>0.851024</td>\n",
       "      <td>0.809208</td>\n",
       "      <td>0.963381</td>\n",
       "    </tr>\n",
       "    <tr>\n",
       "      <td>24</td>\n",
       "      <td>0.015900</td>\n",
       "      <td>0.170043</td>\n",
       "      <td>0.780426</td>\n",
       "      <td>0.853818</td>\n",
       "      <td>0.815474</td>\n",
       "      <td>0.964943</td>\n",
       "    </tr>\n",
       "    <tr>\n",
       "      <td>26</td>\n",
       "      <td>0.014100</td>\n",
       "      <td>0.168290</td>\n",
       "      <td>0.796552</td>\n",
       "      <td>0.860335</td>\n",
       "      <td>0.827216</td>\n",
       "      <td>0.966765</td>\n",
       "    </tr>\n",
       "    <tr>\n",
       "      <td>28</td>\n",
       "      <td>0.009900</td>\n",
       "      <td>0.169982</td>\n",
       "      <td>0.791595</td>\n",
       "      <td>0.859404</td>\n",
       "      <td>0.824107</td>\n",
       "      <td>0.965724</td>\n",
       "    </tr>\n",
       "  </tbody>\n",
       "</table><p>"
      ],
      "text/plain": [
       "<IPython.core.display.HTML object>"
      ]
     },
     "metadata": {},
     "output_type": "display_data"
    },
    {
     "name": "stderr",
     "output_type": "stream",
     "text": [
      "c:\\users\\mcha0133\\desktop\\everything about bert training\\bert-ft-fp\\lib\\site-packages\\seqeval\\metrics\\v1.py:57: UndefinedMetricWarning: Precision and F-score are ill-defined and being set to 0.0 in labels with no predicted samples. Use `zero_division` parameter to control this behavior.\n",
      "  _warn_prf(average, modifier, msg_start, len(result))\n",
      "c:\\users\\mcha0133\\desktop\\everything about bert training\\bert-ft-fp\\lib\\site-packages\\torch\\utils\\checkpoint.py:429: UserWarning: torch.utils.checkpoint: please pass in use_reentrant=True or use_reentrant=False explicitly. The default value of use_reentrant will be updated to be False in the future. To maintain current behavior, pass use_reentrant=True. It is recommended that you use use_reentrant=False. Refer to docs for more details on the differences between the two variants.\n",
      "  warnings.warn(\n",
      "c:\\users\\mcha0133\\desktop\\everything about bert training\\bert-ft-fp\\lib\\site-packages\\seqeval\\metrics\\v1.py:57: UndefinedMetricWarning: Precision and F-score are ill-defined and being set to 0.0 in labels with no predicted samples. Use `zero_division` parameter to control this behavior.\n",
      "  _warn_prf(average, modifier, msg_start, len(result))\n",
      "c:\\users\\mcha0133\\desktop\\everything about bert training\\bert-ft-fp\\lib\\site-packages\\torch\\utils\\checkpoint.py:429: UserWarning: torch.utils.checkpoint: please pass in use_reentrant=True or use_reentrant=False explicitly. The default value of use_reentrant will be updated to be False in the future. To maintain current behavior, pass use_reentrant=True. It is recommended that you use use_reentrant=False. Refer to docs for more details on the differences between the two variants.\n",
      "  warnings.warn(\n",
      "c:\\users\\mcha0133\\desktop\\everything about bert training\\bert-ft-fp\\lib\\site-packages\\seqeval\\metrics\\v1.py:57: UndefinedMetricWarning: Precision and F-score are ill-defined and being set to 0.0 in labels with no predicted samples. Use `zero_division` parameter to control this behavior.\n",
      "  _warn_prf(average, modifier, msg_start, len(result))\n",
      "c:\\users\\mcha0133\\desktop\\everything about bert training\\bert-ft-fp\\lib\\site-packages\\torch\\utils\\checkpoint.py:429: UserWarning: torch.utils.checkpoint: please pass in use_reentrant=True or use_reentrant=False explicitly. The default value of use_reentrant will be updated to be False in the future. To maintain current behavior, pass use_reentrant=True. It is recommended that you use use_reentrant=False. Refer to docs for more details on the differences between the two variants.\n",
      "  warnings.warn(\n",
      "c:\\users\\mcha0133\\desktop\\everything about bert training\\bert-ft-fp\\lib\\site-packages\\seqeval\\metrics\\v1.py:57: UndefinedMetricWarning: Precision and F-score are ill-defined and being set to 0.0 in labels with no predicted samples. Use `zero_division` parameter to control this behavior.\n",
      "  _warn_prf(average, modifier, msg_start, len(result))\n",
      "c:\\users\\mcha0133\\desktop\\everything about bert training\\bert-ft-fp\\lib\\site-packages\\torch\\utils\\checkpoint.py:429: UserWarning: torch.utils.checkpoint: please pass in use_reentrant=True or use_reentrant=False explicitly. The default value of use_reentrant will be updated to be False in the future. To maintain current behavior, pass use_reentrant=True. It is recommended that you use use_reentrant=False. Refer to docs for more details on the differences between the two variants.\n",
      "  warnings.warn(\n",
      "c:\\users\\mcha0133\\desktop\\everything about bert training\\bert-ft-fp\\lib\\site-packages\\seqeval\\metrics\\v1.py:57: UndefinedMetricWarning: Precision and F-score are ill-defined and being set to 0.0 in labels with no predicted samples. Use `zero_division` parameter to control this behavior.\n",
      "  _warn_prf(average, modifier, msg_start, len(result))\n",
      "c:\\users\\mcha0133\\desktop\\everything about bert training\\bert-ft-fp\\lib\\site-packages\\torch\\utils\\checkpoint.py:429: UserWarning: torch.utils.checkpoint: please pass in use_reentrant=True or use_reentrant=False explicitly. The default value of use_reentrant will be updated to be False in the future. To maintain current behavior, pass use_reentrant=True. It is recommended that you use use_reentrant=False. Refer to docs for more details on the differences between the two variants.\n",
      "  warnings.warn(\n",
      "c:\\users\\mcha0133\\desktop\\everything about bert training\\bert-ft-fp\\lib\\site-packages\\seqeval\\metrics\\v1.py:57: UndefinedMetricWarning: Precision and F-score are ill-defined and being set to 0.0 in labels with no predicted samples. Use `zero_division` parameter to control this behavior.\n",
      "  _warn_prf(average, modifier, msg_start, len(result))\n",
      "c:\\users\\mcha0133\\desktop\\everything about bert training\\bert-ft-fp\\lib\\site-packages\\torch\\utils\\checkpoint.py:429: UserWarning: torch.utils.checkpoint: please pass in use_reentrant=True or use_reentrant=False explicitly. The default value of use_reentrant will be updated to be False in the future. To maintain current behavior, pass use_reentrant=True. It is recommended that you use use_reentrant=False. Refer to docs for more details on the differences between the two variants.\n",
      "  warnings.warn(\n",
      "c:\\users\\mcha0133\\desktop\\everything about bert training\\bert-ft-fp\\lib\\site-packages\\seqeval\\metrics\\v1.py:57: UndefinedMetricWarning: Precision and F-score are ill-defined and being set to 0.0 in labels with no predicted samples. Use `zero_division` parameter to control this behavior.\n",
      "  _warn_prf(average, modifier, msg_start, len(result))\n",
      "c:\\users\\mcha0133\\desktop\\everything about bert training\\bert-ft-fp\\lib\\site-packages\\seqeval\\metrics\\v1.py:57: UndefinedMetricWarning: Recall and F-score are ill-defined and being set to 0.0 in labels with no true samples. Use `zero_division` parameter to control this behavior.\n",
      "  _warn_prf(average, modifier, msg_start, len(result))\n",
      "c:\\users\\mcha0133\\desktop\\everything about bert training\\bert-ft-fp\\lib\\site-packages\\torch\\utils\\checkpoint.py:429: UserWarning: torch.utils.checkpoint: please pass in use_reentrant=True or use_reentrant=False explicitly. The default value of use_reentrant will be updated to be False in the future. To maintain current behavior, pass use_reentrant=True. It is recommended that you use use_reentrant=False. Refer to docs for more details on the differences between the two variants.\n",
      "  warnings.warn(\n",
      "c:\\users\\mcha0133\\desktop\\everything about bert training\\bert-ft-fp\\lib\\site-packages\\seqeval\\metrics\\v1.py:57: UndefinedMetricWarning: Precision and F-score are ill-defined and being set to 0.0 in labels with no predicted samples. Use `zero_division` parameter to control this behavior.\n",
      "  _warn_prf(average, modifier, msg_start, len(result))\n",
      "c:\\users\\mcha0133\\desktop\\everything about bert training\\bert-ft-fp\\lib\\site-packages\\torch\\utils\\checkpoint.py:429: UserWarning: torch.utils.checkpoint: please pass in use_reentrant=True or use_reentrant=False explicitly. The default value of use_reentrant will be updated to be False in the future. To maintain current behavior, pass use_reentrant=True. It is recommended that you use use_reentrant=False. Refer to docs for more details on the differences between the two variants.\n",
      "  warnings.warn(\n",
      "c:\\users\\mcha0133\\desktop\\everything about bert training\\bert-ft-fp\\lib\\site-packages\\seqeval\\metrics\\v1.py:57: UndefinedMetricWarning: Precision and F-score are ill-defined and being set to 0.0 in labels with no predicted samples. Use `zero_division` parameter to control this behavior.\n",
      "  _warn_prf(average, modifier, msg_start, len(result))\n",
      "c:\\users\\mcha0133\\desktop\\everything about bert training\\bert-ft-fp\\lib\\site-packages\\seqeval\\metrics\\v1.py:57: UndefinedMetricWarning: Recall and F-score are ill-defined and being set to 0.0 in labels with no true samples. Use `zero_division` parameter to control this behavior.\n",
      "  _warn_prf(average, modifier, msg_start, len(result))\n",
      "c:\\users\\mcha0133\\desktop\\everything about bert training\\bert-ft-fp\\lib\\site-packages\\torch\\utils\\checkpoint.py:429: UserWarning: torch.utils.checkpoint: please pass in use_reentrant=True or use_reentrant=False explicitly. The default value of use_reentrant will be updated to be False in the future. To maintain current behavior, pass use_reentrant=True. It is recommended that you use use_reentrant=False. Refer to docs for more details on the differences between the two variants.\n",
      "  warnings.warn(\n",
      "c:\\users\\mcha0133\\desktop\\everything about bert training\\bert-ft-fp\\lib\\site-packages\\torch\\utils\\checkpoint.py:429: UserWarning: torch.utils.checkpoint: please pass in use_reentrant=True or use_reentrant=False explicitly. The default value of use_reentrant will be updated to be False in the future. To maintain current behavior, pass use_reentrant=True. It is recommended that you use use_reentrant=False. Refer to docs for more details on the differences between the two variants.\n",
      "  warnings.warn(\n",
      "c:\\users\\mcha0133\\desktop\\everything about bert training\\bert-ft-fp\\lib\\site-packages\\torch\\utils\\checkpoint.py:429: UserWarning: torch.utils.checkpoint: please pass in use_reentrant=True or use_reentrant=False explicitly. The default value of use_reentrant will be updated to be False in the future. To maintain current behavior, pass use_reentrant=True. It is recommended that you use use_reentrant=False. Refer to docs for more details on the differences between the two variants.\n",
      "  warnings.warn(\n",
      "c:\\users\\mcha0133\\desktop\\everything about bert training\\bert-ft-fp\\lib\\site-packages\\torch\\utils\\checkpoint.py:429: UserWarning: torch.utils.checkpoint: please pass in use_reentrant=True or use_reentrant=False explicitly. The default value of use_reentrant will be updated to be False in the future. To maintain current behavior, pass use_reentrant=True. It is recommended that you use use_reentrant=False. Refer to docs for more details on the differences between the two variants.\n",
      "  warnings.warn(\n",
      "c:\\users\\mcha0133\\desktop\\everything about bert training\\bert-ft-fp\\lib\\site-packages\\torch\\utils\\checkpoint.py:429: UserWarning: torch.utils.checkpoint: please pass in use_reentrant=True or use_reentrant=False explicitly. The default value of use_reentrant will be updated to be False in the future. To maintain current behavior, pass use_reentrant=True. It is recommended that you use use_reentrant=False. Refer to docs for more details on the differences between the two variants.\n",
      "  warnings.warn(\n",
      "c:\\users\\mcha0133\\desktop\\everything about bert training\\bert-ft-fp\\lib\\site-packages\\seqeval\\metrics\\v1.py:57: UndefinedMetricWarning: Recall and F-score are ill-defined and being set to 0.0 in labels with no true samples. Use `zero_division` parameter to control this behavior.\n",
      "  _warn_prf(average, modifier, msg_start, len(result))\n",
      "c:\\users\\mcha0133\\desktop\\everything about bert training\\bert-ft-fp\\lib\\site-packages\\torch\\utils\\checkpoint.py:429: UserWarning: torch.utils.checkpoint: please pass in use_reentrant=True or use_reentrant=False explicitly. The default value of use_reentrant will be updated to be False in the future. To maintain current behavior, pass use_reentrant=True. It is recommended that you use use_reentrant=False. Refer to docs for more details on the differences between the two variants.\n",
      "  warnings.warn(\n",
      "c:\\users\\mcha0133\\desktop\\everything about bert training\\bert-ft-fp\\lib\\site-packages\\seqeval\\metrics\\v1.py:57: UndefinedMetricWarning: Recall and F-score are ill-defined and being set to 0.0 in labels with no true samples. Use `zero_division` parameter to control this behavior.\n",
      "  _warn_prf(average, modifier, msg_start, len(result))\n",
      "c:\\users\\mcha0133\\desktop\\everything about bert training\\bert-ft-fp\\lib\\site-packages\\torch\\utils\\checkpoint.py:429: UserWarning: torch.utils.checkpoint: please pass in use_reentrant=True or use_reentrant=False explicitly. The default value of use_reentrant will be updated to be False in the future. To maintain current behavior, pass use_reentrant=True. It is recommended that you use use_reentrant=False. Refer to docs for more details on the differences between the two variants.\n",
      "  warnings.warn(\n",
      "c:\\users\\mcha0133\\desktop\\everything about bert training\\bert-ft-fp\\lib\\site-packages\\seqeval\\metrics\\v1.py:57: UndefinedMetricWarning: Recall and F-score are ill-defined and being set to 0.0 in labels with no true samples. Use `zero_division` parameter to control this behavior.\n",
      "  _warn_prf(average, modifier, msg_start, len(result))\n",
      "c:\\users\\mcha0133\\desktop\\everything about bert training\\bert-ft-fp\\lib\\site-packages\\torch\\utils\\checkpoint.py:429: UserWarning: torch.utils.checkpoint: please pass in use_reentrant=True or use_reentrant=False explicitly. The default value of use_reentrant will be updated to be False in the future. To maintain current behavior, pass use_reentrant=True. It is recommended that you use use_reentrant=False. Refer to docs for more details on the differences between the two variants.\n",
      "  warnings.warn(\n",
      "c:\\users\\mcha0133\\desktop\\everything about bert training\\bert-ft-fp\\lib\\site-packages\\seqeval\\metrics\\v1.py:57: UndefinedMetricWarning: Recall and F-score are ill-defined and being set to 0.0 in labels with no true samples. Use `zero_division` parameter to control this behavior.\n",
      "  _warn_prf(average, modifier, msg_start, len(result))\n",
      "c:\\users\\mcha0133\\desktop\\everything about bert training\\bert-ft-fp\\lib\\site-packages\\torch\\utils\\checkpoint.py:429: UserWarning: torch.utils.checkpoint: please pass in use_reentrant=True or use_reentrant=False explicitly. The default value of use_reentrant will be updated to be False in the future. To maintain current behavior, pass use_reentrant=True. It is recommended that you use use_reentrant=False. Refer to docs for more details on the differences between the two variants.\n",
      "  warnings.warn(\n",
      "c:\\users\\mcha0133\\desktop\\everything about bert training\\bert-ft-fp\\lib\\site-packages\\seqeval\\metrics\\v1.py:57: UndefinedMetricWarning: Recall and F-score are ill-defined and being set to 0.0 in labels with no true samples. Use `zero_division` parameter to control this behavior.\n",
      "  _warn_prf(average, modifier, msg_start, len(result))\n",
      "c:\\users\\mcha0133\\desktop\\everything about bert training\\bert-ft-fp\\lib\\site-packages\\torch\\utils\\checkpoint.py:429: UserWarning: torch.utils.checkpoint: please pass in use_reentrant=True or use_reentrant=False explicitly. The default value of use_reentrant will be updated to be False in the future. To maintain current behavior, pass use_reentrant=True. It is recommended that you use use_reentrant=False. Refer to docs for more details on the differences between the two variants.\n",
      "  warnings.warn(\n",
      "c:\\users\\mcha0133\\desktop\\everything about bert training\\bert-ft-fp\\lib\\site-packages\\seqeval\\metrics\\v1.py:57: UndefinedMetricWarning: Recall and F-score are ill-defined and being set to 0.0 in labels with no true samples. Use `zero_division` parameter to control this behavior.\n",
      "  _warn_prf(average, modifier, msg_start, len(result))\n",
      "c:\\users\\mcha0133\\desktop\\everything about bert training\\bert-ft-fp\\lib\\site-packages\\torch\\utils\\checkpoint.py:429: UserWarning: torch.utils.checkpoint: please pass in use_reentrant=True or use_reentrant=False explicitly. The default value of use_reentrant will be updated to be False in the future. To maintain current behavior, pass use_reentrant=True. It is recommended that you use use_reentrant=False. Refer to docs for more details on the differences between the two variants.\n",
      "  warnings.warn(\n",
      "c:\\users\\mcha0133\\desktop\\everything about bert training\\bert-ft-fp\\lib\\site-packages\\torch\\utils\\checkpoint.py:429: UserWarning: torch.utils.checkpoint: please pass in use_reentrant=True or use_reentrant=False explicitly. The default value of use_reentrant will be updated to be False in the future. To maintain current behavior, pass use_reentrant=True. It is recommended that you use use_reentrant=False. Refer to docs for more details on the differences between the two variants.\n",
      "  warnings.warn(\n",
      "c:\\users\\mcha0133\\desktop\\everything about bert training\\bert-ft-fp\\lib\\site-packages\\seqeval\\metrics\\v1.py:57: UndefinedMetricWarning: Recall and F-score are ill-defined and being set to 0.0 in labels with no true samples. Use `zero_division` parameter to control this behavior.\n",
      "  _warn_prf(average, modifier, msg_start, len(result))\n",
      "c:\\users\\mcha0133\\desktop\\everything about bert training\\bert-ft-fp\\lib\\site-packages\\torch\\utils\\checkpoint.py:429: UserWarning: torch.utils.checkpoint: please pass in use_reentrant=True or use_reentrant=False explicitly. The default value of use_reentrant will be updated to be False in the future. To maintain current behavior, pass use_reentrant=True. It is recommended that you use use_reentrant=False. Refer to docs for more details on the differences between the two variants.\n",
      "  warnings.warn(\n",
      "c:\\users\\mcha0133\\desktop\\everything about bert training\\bert-ft-fp\\lib\\site-packages\\torch\\utils\\checkpoint.py:429: UserWarning: torch.utils.checkpoint: please pass in use_reentrant=True or use_reentrant=False explicitly. The default value of use_reentrant will be updated to be False in the future. To maintain current behavior, pass use_reentrant=True. It is recommended that you use use_reentrant=False. Refer to docs for more details on the differences between the two variants.\n",
      "  warnings.warn(\n",
      "c:\\users\\mcha0133\\desktop\\everything about bert training\\bert-ft-fp\\lib\\site-packages\\seqeval\\metrics\\v1.py:57: UndefinedMetricWarning: Recall and F-score are ill-defined and being set to 0.0 in labels with no true samples. Use `zero_division` parameter to control this behavior.\n",
      "  _warn_prf(average, modifier, msg_start, len(result))\n",
      "c:\\users\\mcha0133\\desktop\\everything about bert training\\bert-ft-fp\\lib\\site-packages\\torch\\utils\\checkpoint.py:429: UserWarning: torch.utils.checkpoint: please pass in use_reentrant=True or use_reentrant=False explicitly. The default value of use_reentrant will be updated to be False in the future. To maintain current behavior, pass use_reentrant=True. It is recommended that you use use_reentrant=False. Refer to docs for more details on the differences between the two variants.\n",
      "  warnings.warn(\n",
      "c:\\users\\mcha0133\\desktop\\everything about bert training\\bert-ft-fp\\lib\\site-packages\\torch\\utils\\checkpoint.py:429: UserWarning: torch.utils.checkpoint: please pass in use_reentrant=True or use_reentrant=False explicitly. The default value of use_reentrant will be updated to be False in the future. To maintain current behavior, pass use_reentrant=True. It is recommended that you use use_reentrant=False. Refer to docs for more details on the differences between the two variants.\n",
      "  warnings.warn(\n",
      "c:\\users\\mcha0133\\desktop\\everything about bert training\\bert-ft-fp\\lib\\site-packages\\seqeval\\metrics\\v1.py:57: UndefinedMetricWarning: Recall and F-score are ill-defined and being set to 0.0 in labels with no true samples. Use `zero_division` parameter to control this behavior.\n",
      "  _warn_prf(average, modifier, msg_start, len(result))\n",
      "c:\\users\\mcha0133\\desktop\\everything about bert training\\bert-ft-fp\\lib\\site-packages\\torch\\utils\\checkpoint.py:429: UserWarning: torch.utils.checkpoint: please pass in use_reentrant=True or use_reentrant=False explicitly. The default value of use_reentrant will be updated to be False in the future. To maintain current behavior, pass use_reentrant=True. It is recommended that you use use_reentrant=False. Refer to docs for more details on the differences between the two variants.\n",
      "  warnings.warn(\n",
      "c:\\users\\mcha0133\\desktop\\everything about bert training\\bert-ft-fp\\lib\\site-packages\\seqeval\\metrics\\v1.py:57: UndefinedMetricWarning: Recall and F-score are ill-defined and being set to 0.0 in labels with no true samples. Use `zero_division` parameter to control this behavior.\n",
      "  _warn_prf(average, modifier, msg_start, len(result))\n",
      "c:\\users\\mcha0133\\desktop\\everything about bert training\\bert-ft-fp\\lib\\site-packages\\torch\\utils\\checkpoint.py:429: UserWarning: torch.utils.checkpoint: please pass in use_reentrant=True or use_reentrant=False explicitly. The default value of use_reentrant will be updated to be False in the future. To maintain current behavior, pass use_reentrant=True. It is recommended that you use use_reentrant=False. Refer to docs for more details on the differences between the two variants.\n",
      "  warnings.warn(\n",
      "c:\\users\\mcha0133\\desktop\\everything about bert training\\bert-ft-fp\\lib\\site-packages\\seqeval\\metrics\\v1.py:57: UndefinedMetricWarning: Recall and F-score are ill-defined and being set to 0.0 in labels with no true samples. Use `zero_division` parameter to control this behavior.\n",
      "  _warn_prf(average, modifier, msg_start, len(result))\n",
      "c:\\users\\mcha0133\\desktop\\everything about bert training\\bert-ft-fp\\lib\\site-packages\\torch\\utils\\checkpoint.py:429: UserWarning: torch.utils.checkpoint: please pass in use_reentrant=True or use_reentrant=False explicitly. The default value of use_reentrant will be updated to be False in the future. To maintain current behavior, pass use_reentrant=True. It is recommended that you use use_reentrant=False. Refer to docs for more details on the differences between the two variants.\n",
      "  warnings.warn(\n",
      "c:\\users\\mcha0133\\desktop\\everything about bert training\\bert-ft-fp\\lib\\site-packages\\seqeval\\metrics\\v1.py:57: UndefinedMetricWarning: Recall and F-score are ill-defined and being set to 0.0 in labels with no true samples. Use `zero_division` parameter to control this behavior.\n",
      "  _warn_prf(average, modifier, msg_start, len(result))\n",
      "c:\\users\\mcha0133\\desktop\\everything about bert training\\bert-ft-fp\\lib\\site-packages\\torch\\utils\\checkpoint.py:429: UserWarning: torch.utils.checkpoint: please pass in use_reentrant=True or use_reentrant=False explicitly. The default value of use_reentrant will be updated to be False in the future. To maintain current behavior, pass use_reentrant=True. It is recommended that you use use_reentrant=False. Refer to docs for more details on the differences between the two variants.\n",
      "  warnings.warn(\n",
      "c:\\users\\mcha0133\\desktop\\everything about bert training\\bert-ft-fp\\lib\\site-packages\\seqeval\\metrics\\v1.py:57: UndefinedMetricWarning: Recall and F-score are ill-defined and being set to 0.0 in labels with no true samples. Use `zero_division` parameter to control this behavior.\n",
      "  _warn_prf(average, modifier, msg_start, len(result))\n"
     ]
    },
    {
     "name": "stdout",
     "output_type": "stream",
     "text": [
      "CPU times: total: 3min 35s\n",
      "Wall time: 3min 43s\n"
     ]
    },
    {
     "data": {
      "text/plain": [
       "TrainOutput(global_step=270, training_loss=0.1416078432014695, metrics={'train_runtime': 219.9801, 'train_samples_per_second': 20.456, 'train_steps_per_second': 1.227, 'total_flos': 1095667077525732.0, 'train_loss': 0.1416078432014695, 'epoch': 28.42})"
      ]
     },
     "execution_count": 24,
     "metadata": {},
     "output_type": "execute_result"
    }
   ],
   "source": [
    "%%time\n",
    "\n",
    "trainer.train()"
   ]
  },
  {
   "cell_type": "markdown",
   "id": "e155c68a-79ab-438c-96c2-7f4dd556cbc1",
   "metadata": {},
   "source": [
    "# Evaluation"
   ]
  },
  {
   "cell_type": "code",
   "execution_count": 25,
   "id": "24241201-e31a-4962-8e4b-161602e1bef9",
   "metadata": {},
   "outputs": [
    {
     "data": {
      "text/html": [],
      "text/plain": [
       "<IPython.core.display.HTML object>"
      ]
     },
     "metadata": {},
     "output_type": "display_data"
    },
    {
     "name": "stderr",
     "output_type": "stream",
     "text": [
      "c:\\users\\mcha0133\\desktop\\everything about bert training\\bert-ft-fp\\lib\\site-packages\\seqeval\\metrics\\v1.py:57: UndefinedMetricWarning: Precision and F-score are ill-defined and being set to 0.0 in labels with no predicted samples. Use `zero_division` parameter to control this behavior.\n",
      "  _warn_prf(average, modifier, msg_start, len(result))\n",
      "c:\\users\\mcha0133\\desktop\\everything about bert training\\bert-ft-fp\\lib\\site-packages\\seqeval\\metrics\\v1.py:57: UndefinedMetricWarning: Recall and F-score are ill-defined and being set to 0.0 in labels with no true samples. Use `zero_division` parameter to control this behavior.\n",
      "  _warn_prf(average, modifier, msg_start, len(result))\n"
     ]
    },
    {
     "data": {
      "text/plain": [
       "{'eval_loss': 0.12487058341503143,\n",
       " 'eval_precision': 0.831302717900656,\n",
       " 'eval_recall': 0.8258845437616388,\n",
       " 'eval_f1': 0.8285847734703409,\n",
       " 'eval_accuracy': 0.9702360291565428,\n",
       " 'eval_runtime': 0.4493,\n",
       " 'eval_samples_per_second': 66.774,\n",
       " 'eval_steps_per_second': 17.806,\n",
       " 'epoch': 28.42}"
      ]
     },
     "execution_count": 25,
     "metadata": {},
     "output_type": "execute_result"
    }
   ],
   "source": [
    "trainer.evaluate()"
   ]
  },
  {
   "cell_type": "code",
   "execution_count": 28,
   "id": "3aebd102-26df-4709-8136-6af63bbef4de",
   "metadata": {},
   "outputs": [
    {
     "data": {
      "text/html": [],
      "text/plain": [
       "<IPython.core.display.HTML object>"
      ]
     },
     "metadata": {},
     "output_type": "display_data"
    },
    {
     "data": {
      "text/plain": [
       "{'EVENT': {'precision': 0.6595744680851063,\n",
       "  'recall': 0.5740740740740741,\n",
       "  'f1': 0.613861386138614,\n",
       "  'number': 54},\n",
       " 'FACILITY': {'precision': 0.2857142857142857,\n",
       "  'recall': 0.06451612903225806,\n",
       "  'f1': 0.10526315789473685,\n",
       "  'number': 31},\n",
       " 'LAW': {'precision': 0.0, 'recall': 0.0, 'f1': 0.0, 'number': 0},\n",
       " 'LOCATION': {'precision': 0.8653061224489796,\n",
       "  'recall': 0.8907563025210085,\n",
       "  'f1': 0.8778467908902693,\n",
       "  'number': 238},\n",
       " 'NORP': {'precision': 0.6, 'recall': 0.6, 'f1': 0.6, 'number': 5},\n",
       " 'ORGANIZATION': {'precision': 0.8834244080145719,\n",
       "  'recall': 0.9065420560747663,\n",
       "  'f1': 0.8948339483394833,\n",
       "  'number': 535},\n",
       " 'PERSON': {'precision': 0.8209876543209876,\n",
       "  'recall': 0.869281045751634,\n",
       "  'f1': 0.8444444444444443,\n",
       "  'number': 153},\n",
       " 'PRODUCT': {'precision': 0.3,\n",
       "  'recall': 0.375,\n",
       "  'f1': 0.33333333333333326,\n",
       "  'number': 8},\n",
       " 'ROLE': {'precision': 0.43902439024390244,\n",
       "  'recall': 0.375,\n",
       "  'f1': 0.40449438202247195,\n",
       "  'number': 48},\n",
       " 'TITLE': {'precision': 0.0, 'recall': 0.0, 'f1': 0.0, 'number': 2},\n",
       " 'overall_precision': 0.831302717900656,\n",
       " 'overall_recall': 0.8258845437616388,\n",
       " 'overall_f1': 0.8285847734703409,\n",
       " 'overall_accuracy': 0.9702360291565428}"
      ]
     },
     "execution_count": 28,
     "metadata": {},
     "output_type": "execute_result"
    }
   ],
   "source": [
    "predictions, labels, _ = trainer.predict(valid_set)\n",
    "predictions = np.argmax(predictions, axis=2)\n",
    "\n",
    "label2id_str = list(label2id.keys())\n",
    "# Remove ignored index (special tokens)\n",
    "true_predictions = [\n",
    "    [label2id_str[p] for (p, l) in zip(prediction, label) if l != -100]\n",
    "    for prediction, label in zip(predictions, labels)\n",
    "]\n",
    "true_labels = [\n",
    "    [label2id_str[l] for (p, l) in zip(prediction, label) if l != -100]\n",
    "    for prediction, label in zip(predictions, labels)\n",
    "]\n",
    "\n",
    "results = metric.compute(predictions=true_predictions, references=true_labels)\n",
    "results"
   ]
  },
  {
   "cell_type": "code",
   "execution_count": 29,
   "id": "22ac8464-3687-481f-a205-d580b74eb80b",
   "metadata": {},
   "outputs": [
    {
     "data": {
      "text/plain": [
       "('./final_tokenizer\\\\tokenizer_config.json',\n",
       " './final_tokenizer\\\\special_tokens_map.json',\n",
       " './final_tokenizer\\\\vocab.txt',\n",
       " './final_tokenizer\\\\added_tokens.json',\n",
       " './final_tokenizer\\\\tokenizer.json')"
      ]
     },
     "execution_count": 29,
     "metadata": {},
     "output_type": "execute_result"
    }
   ],
   "source": [
    "os.makedirs(f\"./final_model\", exist_ok=True)\n",
    "final_model = f\"./final_model\"\n",
    "os.makedirs(final_model, exist_ok=True)\n",
    "\n",
    "trainer.save_model(final_model)\n",
    "\n",
    "os.makedirs(f\"./final_tokenizer\", exist_ok=True)\n",
    "final_tokenizer = f\"./final_tokenizer\"\n",
    "os.makedirs(final_tokenizer, exist_ok=True)\n",
    "tokenizer.save_pretrained(final_tokenizer)"
   ]
  },
  {
   "cell_type": "code",
   "execution_count": null,
   "id": "71261209-d474-42ff-a7b5-ca164f7916a6",
   "metadata": {},
   "outputs": [],
   "source": []
  }
 ],
 "metadata": {
  "kernelspec": {
   "display_name": "bert-ft-fp",
   "language": "python",
   "name": "bert-ft-fp"
  },
  "language_info": {
   "codemirror_mode": {
    "name": "ipython",
    "version": 3
   },
   "file_extension": ".py",
   "mimetype": "text/x-python",
   "name": "python",
   "nbconvert_exporter": "python",
   "pygments_lexer": "ipython3",
   "version": "3.8.10"
  }
 },
 "nbformat": 4,
 "nbformat_minor": 5
}
