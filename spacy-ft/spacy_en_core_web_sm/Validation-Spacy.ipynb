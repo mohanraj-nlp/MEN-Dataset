{
 "cells": [
  {
   "cell_type": "markdown",
   "id": "e10c3088-9acd-4052-b8c5-30569c0310bd",
   "metadata": {},
   "source": [
    "# Further Pretrained Spacy"
   ]
  },
  {
   "cell_type": "code",
   "execution_count": 1,
   "id": "2eeb6de5-37ea-47b6-898f-41d139cd5741",
   "metadata": {},
   "outputs": [],
   "source": [
    "import spacy\n",
    "import json\n",
    "from spacy.scorer import Scorer\n",
    "from spacy.training.example import Example"
   ]
  },
  {
   "cell_type": "code",
   "execution_count": 2,
   "id": "5a56f9af-1328-4475-8763-472e2a9da27a",
   "metadata": {},
   "outputs": [
    {
     "name": "stderr",
     "output_type": "stream",
     "text": [
      "c:\\users\\mcha0133\\appdata\\local\\programs\\python\\python38\\lib\\site-packages\\tqdm\\auto.py:21: TqdmWarning: IProgress not found. Please update jupyter and ipywidgets. See https://ipywidgets.readthedocs.io/en/stable/user_install.html\n",
      "  from .autonotebook import tqdm as notebook_tqdm\n"
     ]
    }
   ],
   "source": [
    "# Load your custom pretrained model\n",
    "nlp = spacy.load(\"./output/model-best\") #load the best model"
   ]
  },
  {
   "cell_type": "code",
   "execution_count": 3,
   "id": "9d889239-5aac-4b76-a425-4289739775ef",
   "metadata": {},
   "outputs": [],
   "source": [
    "# Load the validation data from the .spacy file\n",
    "\n",
    "with open(\"validation-spacy-format.json\",\"r\") as f:\n",
    "    validation_data = json.load(f)"
   ]
  },
  {
   "cell_type": "code",
   "execution_count": 4,
   "id": "87815d50-0ebc-44c1-9848-f3ae4789c89a",
   "metadata": {},
   "outputs": [
    {
     "data": {
      "text/plain": [
       "{'token_acc': 1.0,\n",
       " 'token_p': 1.0,\n",
       " 'token_r': 1.0,\n",
       " 'token_f': 1.0,\n",
       " 'sents_p': None,\n",
       " 'sents_r': None,\n",
       " 'sents_f': None,\n",
       " 'tag_acc': None,\n",
       " 'pos_acc': None,\n",
       " 'morph_acc': None,\n",
       " 'morph_micro_p': None,\n",
       " 'morph_micro_r': None,\n",
       " 'morph_micro_f': None,\n",
       " 'morph_per_feat': None,\n",
       " 'dep_uas': None,\n",
       " 'dep_las': None,\n",
       " 'dep_las_per_type': None,\n",
       " 'ents_p': 0.9436619718309859,\n",
       " 'ents_r': 0.9370629370629371,\n",
       " 'ents_f': 0.9403508771929825,\n",
       " 'ents_per_type': {'LOCATION': {'p': 0.9225352112676056,\n",
       "   'r': 0.9632352941176471,\n",
       "   'f': 0.9424460431654677},\n",
       "  'ORGANIZATION': {'p': 0.9689922480620154,\n",
       "   'r': 0.9433962264150944,\n",
       "   'f': 0.9560229445506692},\n",
       "  'EVENT': {'p': 0.8928571428571429,\n",
       "   'r': 0.8928571428571429,\n",
       "   'f': 0.8928571428571429},\n",
       "  'PRODUCT': {'p': 0.625, 'r': 1.0, 'f': 0.7692307692307693},\n",
       "  'FACILITY': {'p': 0.5555555555555556,\n",
       "   'r': 0.3333333333333333,\n",
       "   'f': 0.4166666666666667},\n",
       "  'ROLE': {'p': 0.96875, 'r': 0.96875, 'f': 0.96875},\n",
       "  'PERSON': {'p': 0.9879518072289156,\n",
       "   'r': 0.9761904761904762,\n",
       "   'f': 0.9820359281437125},\n",
       "  'NORP': {'p': 1.0, 'r': 1.0, 'f': 1.0},\n",
       "  'TITLE': {'p': 0.6666666666666666, 'r': 1.0, 'f': 0.8}},\n",
       " 'cats_score': 0.0,\n",
       " 'cats_score_desc': 'macro F',\n",
       " 'cats_micro_p': 0.0,\n",
       " 'cats_micro_r': 0.0,\n",
       " 'cats_micro_f': 0.0,\n",
       " 'cats_macro_p': 0.0,\n",
       " 'cats_macro_r': 0.0,\n",
       " 'cats_macro_f': 0.0,\n",
       " 'cats_macro_auc': 0.0,\n",
       " 'cats_f_per_type': {},\n",
       " 'cats_auc_per_type': {}}"
      ]
     },
     "execution_count": 4,
     "metadata": {},
     "output_type": "execute_result"
    }
   ],
   "source": [
    "examples = []\n",
    "scorer = Scorer()\n",
    "for text, annotations in validation_data:\n",
    "    doc = nlp.make_doc(text)\n",
    "    example = Example.from_dict(doc, annotations)\n",
    "    example.predicted = nlp(str(example.predicted))\n",
    "    examples.append(example)\n",
    "scorer.score(examples)"
   ]
  },
  {
   "cell_type": "code",
   "execution_count": null,
   "id": "7b6c504c-a049-45a9-99db-6a31e6538915",
   "metadata": {},
   "outputs": [],
   "source": []
  }
 ],
 "metadata": {
  "kernelspec": {
   "display_name": "spacy-train",
   "language": "python",
   "name": "spacy-train"
  },
  "language_info": {
   "codemirror_mode": {
    "name": "ipython",
    "version": 3
   },
   "file_extension": ".py",
   "mimetype": "text/x-python",
   "name": "python",
   "nbconvert_exporter": "python",
   "pygments_lexer": "ipython3",
   "version": "3.8.10"
  }
 },
 "nbformat": 4,
 "nbformat_minor": 5
}
